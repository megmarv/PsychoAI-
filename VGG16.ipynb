{
 "cells": [
  {
   "cell_type": "code",
   "id": "initial_id",
   "metadata": {
    "collapsed": true,
    "ExecuteTime": {
     "end_time": "2025-03-22T19:35:24.296183Z",
     "start_time": "2025-03-22T19:35:24.289223Z"
    }
   },
   "source": [
    "import matplotlib.pyplot as plt\n",
    "import tensorflow as tf\n",
    "import os\n",
    "import pandas as pd\n",
    "from tensorflow.keras.models import Sequential\n",
    "from tensorflow.keras.models import Model\n",
    "from tensorflow.keras.layers import Conv2D, BatchNormalization, MaxPooling2D, Dropout, Flatten, Dense, Input, Add, GlobalAveragePooling2D\n",
    "from tensorflow.keras.callbacks import EarlyStopping, ReduceLROnPlateau, ModelCheckpoint\n",
    "from sklearn.utils.class_weight import compute_class_weight\n",
    "from tensorflow.keras.preprocessing.image import ImageDataGenerator\n",
    "from sklearn.metrics import confusion_matrix\n",
    "import seaborn as sns\n",
    "import numpy as np\n",
    "from sklearn.metrics import classification_report\n",
    "from tensorflow.keras.applications import ResNet50\n",
    "from sklearn.utils import resample\n",
    "from tensorflow.keras.callbacks import Callback\n",
    "from tensorflow.keras.applications import VGG16\n",
    "from tensorflow.keras.applications.vgg16 import preprocess_input"
   ],
   "outputs": [],
   "execution_count": 119
  },
  {
   "metadata": {
    "ExecuteTime": {
     "end_time": "2025-03-22T19:35:24.307335Z",
     "start_time": "2025-03-22T19:35:24.303630Z"
    }
   },
   "cell_type": "code",
   "source": [
    "import tensorflow as tf\n",
    "print(tf.__version__)"
   ],
   "id": "637fb31161864a5d",
   "outputs": [
    {
     "name": "stdout",
     "output_type": "stream",
     "text": [
      "2.19.0\n"
     ]
    }
   ],
   "execution_count": 120
  },
  {
   "metadata": {
    "ExecuteTime": {
     "end_time": "2025-03-22T19:35:24.330850Z",
     "start_time": "2025-03-22T19:35:24.326547Z"
    }
   },
   "cell_type": "code",
   "source": [
    "# Define dataset directory\n",
    "DATASET_DIRECTORY = 'FER2013_MTCNN_SHA-256'\n",
    "\n",
    "# Image size & batch size\n",
    "image_size = (224, 224)\n",
    "BATCH_SIZE = 64\n",
    "VALIDATION_SPLIT = 0.2  # 20% of training data for validation"
   ],
   "id": "a70f5c67080296d8",
   "outputs": [],
   "execution_count": 121
  },
  {
   "metadata": {
    "ExecuteTime": {
     "end_time": "2025-03-22T19:35:24.882426Z",
     "start_time": "2025-03-22T19:35:24.358270Z"
    }
   },
   "cell_type": "code",
   "source": [
    "# Define ImageDataGenerators\n",
    "train_datagen = ImageDataGenerator(\n",
    "    preprocessing_function=preprocess_input,\n",
    "    rotation_range=20,\n",
    "    width_shift_range=0.2,\n",
    "    height_shift_range=0.2,\n",
    "    horizontal_flip=True,\n",
    "    zoom_range=0.2,\n",
    "    validation_split=VALIDATION_SPLIT  # Splitting training data\n",
    ")\n",
    "\n",
    "test_datagen = ImageDataGenerator(preprocessing_function=preprocess_input,)\n",
    "\n",
    "# Load Training Data (80%) - Before Oversampling\n",
    "train_data = train_datagen.flow_from_directory(\n",
    "    os.path.join(DATASET_DIRECTORY, \"train\"),\n",
    "    target_size=image_size,\n",
    "    batch_size=BATCH_SIZE,\n",
    "    color_mode=\"rgb\",  # ResNet50 expects RGB\n",
    "    class_mode=\"categorical\",\n",
    "    subset=\"training\"  # 80% for training\n",
    ")\n",
    "\n",
    "val_datagen = ImageDataGenerator(preprocessing_function=preprocess_input,)\n",
    "val_data = val_datagen.flow_from_directory(\n",
    "    os.path.join(DATASET_DIRECTORY, \"train\"),\n",
    "    target_size=image_size,\n",
    "    batch_size=BATCH_SIZE,\n",
    "    color_mode=\"rgb\",\n",
    "    class_mode=\"categorical\",\n",
    "    subset=\"validation\"\n",
    ")\n",
    "\n",
    "# Load Test Data (Untouched)\n",
    "test_data = test_datagen.flow_from_directory(\n",
    "    os.path.join(DATASET_DIRECTORY, \"test\"),\n",
    "    target_size=image_size,\n",
    "    batch_size=BATCH_SIZE,\n",
    "    color_mode=\"rgb\",\n",
    "    class_mode=\"categorical\",\n",
    "    shuffle=False  # Keep order unchanged for evaluation\n",
    ")\n",
    "\n",
    "# Print dataset details (before oversampling)\n",
    "print(f\"Training samples (before oversampling): {train_data.samples}, Classes: {train_data.num_classes}\")\n",
    "print(f\"Validation samples: {val_data.samples}\")\n",
    "print(f\"Test samples: {test_data.samples}\")"
   ],
   "id": "a96575922068f9da",
   "outputs": [
    {
     "name": "stdout",
     "output_type": "stream",
     "text": [
      "Found 18240 images belonging to 7 classes.\n",
      "Found 0 images belonging to 7 classes.\n",
      "Found 6031 images belonging to 7 classes.\n",
      "Training samples (before oversampling): 18240, Classes: 7\n",
      "Validation samples: 0\n",
      "Test samples: 6031\n"
     ]
    }
   ],
   "execution_count": 122
  },
  {
   "metadata": {
    "ExecuteTime": {
     "end_time": "2025-03-22T19:35:24.956971Z",
     "start_time": "2025-03-22T19:35:24.882426Z"
    }
   },
   "cell_type": "code",
   "source": [
    "def balance_test_data(test_data, target_count=500):\n",
    "    class_indices = test_data.class_indices\n",
    "    idx_to_class = {v: k for k, v in class_indices.items()}\n",
    "\n",
    "    image_paths = []\n",
    "    labels = []\n",
    "    for subdir in os.listdir(os.path.join(DATASET_DIRECTORY, \"test\")):\n",
    "        subdir_path = os.path.join(DATASET_DIRECTORY, \"test\", subdir)\n",
    "        if os.path.isdir(subdir_path):\n",
    "            for img_name in os.listdir(subdir_path):\n",
    "                if img_name.endswith(('.jpg', '.png')):\n",
    "                    image_paths.append(os.path.join(subdir_path, img_name))\n",
    "                    labels.append(class_indices[subdir])\n",
    "\n",
    "    df = pd.DataFrame({'path': image_paths, 'label': labels})\n",
    "\n",
    "    balanced_dfs = []\n",
    "    for class_idx in class_indices.values():\n",
    "        class_df = df[df['label'] == class_idx]\n",
    "        current_count = len(class_df)\n",
    "        if current_count < target_count:\n",
    "            oversampled_class = resample(class_df, replace=True, n_samples=target_count - current_count, random_state=42)\n",
    "            balanced_df = pd.concat([class_df, oversampled_class])\n",
    "        elif current_count > target_count:\n",
    "            balanced_df = resample(class_df, replace=False, n_samples=target_count, random_state=42)\n",
    "        else:\n",
    "            balanced_df = class_df\n",
    "        balanced_dfs.append(balanced_df)\n",
    "\n",
    "    balanced_test_df = pd.concat(balanced_dfs)\n",
    "    balanced_test_df['label'] = balanced_test_df['label'].map(idx_to_class)\n",
    "\n",
    "    test_datagen = ImageDataGenerator(preprocessing_function=preprocess_input,)\n",
    "    test_data_balanced = test_datagen.flow_from_dataframe(\n",
    "        balanced_test_df,\n",
    "        x_col='path',\n",
    "        y_col='label',\n",
    "        target_size=image_size,\n",
    "        batch_size=BATCH_SIZE,\n",
    "        color_mode=\"rgb\",\n",
    "        class_mode=\"categorical\",\n",
    "        shuffle=False\n",
    "    )\n",
    "\n",
    "    return test_data_balanced\n",
    "\n",
    "# Replace test_data with balanced test data\n",
    "test_data = balance_test_data(test_data, target_count=500)"
   ],
   "id": "33f2cf94dfe0e6d",
   "outputs": [
    {
     "name": "stdout",
     "output_type": "stream",
     "text": [
      "Found 3500 validated image filenames belonging to 7 classes.\n"
     ]
    }
   ],
   "execution_count": 123
  },
  {
   "metadata": {
    "ExecuteTime": {
     "end_time": "2025-03-22T19:35:25.389216Z",
     "start_time": "2025-03-22T19:35:24.968264Z"
    }
   },
   "cell_type": "code",
   "source": [
    "def oversample_minority_classes(train_data, target_count=None):\n",
    "    # Get class indices\n",
    "    class_indices = train_data.class_indices\n",
    "    idx_to_class = {v: k for k, v in class_indices.items()}\n",
    "\n",
    "    # Create a list of image paths and labels\n",
    "    image_paths = []\n",
    "    labels = []\n",
    "    for subdir in os.listdir(os.path.join(DATASET_DIRECTORY, \"train\")):\n",
    "        subdir_path = os.path.join(DATASET_DIRECTORY, \"train\", subdir)\n",
    "        if os.path.isdir(subdir_path):\n",
    "            for img_name in os.listdir(subdir_path):\n",
    "                if img_name.endswith(('.jpg', '.png')):\n",
    "                    image_paths.append(os.path.join(subdir_path, img_name))\n",
    "                    labels.append(class_indices[subdir])\n",
    "\n",
    "    # Convert to DataFrame\n",
    "    df = pd.DataFrame({'path': image_paths, 'label': labels})\n",
    "\n",
    "    # Print original class distribution (before split)\n",
    "    print(\"Original class distribution (before split):\")\n",
    "    print(df['label'].map(idx_to_class).value_counts())\n",
    "\n",
    "    # Apply the 80% training split manually\n",
    "    train_df = df.sample(frac=0.8, random_state=42)\n",
    "    print(\"\\nClass distribution after 80% training split (before oversampling):\")\n",
    "    print(train_df['label'].map(idx_to_class).value_counts())\n",
    "\n",
    "    # Determine the target count for balancing\n",
    "    if target_count is None:\n",
    "        # Use the count of the largest class after the 80% split\n",
    "        class_counts = train_df['label'].value_counts()\n",
    "        target_count = class_counts.max()  # e.g., \"happy\" with 4,898\n",
    "\n",
    "    print(f\"\\nTarget count per class for balancing: {target_count}\")\n",
    "\n",
    "    # Oversample/undersample each class to reach the target count\n",
    "    balanced_dfs = []\n",
    "    for class_idx in class_indices.values():\n",
    "        class_df = train_df[train_df['label'] == class_idx]\n",
    "        current_count = len(class_df)\n",
    "        if current_count < target_count:\n",
    "            # Oversample\n",
    "            oversampled_class = resample(class_df, replace=True, n_samples=target_count - current_count, random_state=42)\n",
    "            balanced_df = pd.concat([class_df, oversampled_class])\n",
    "        elif current_count > target_count:\n",
    "            # Undersample\n",
    "            balanced_df = resample(class_df, replace=False, n_samples=target_count, random_state=42)\n",
    "        else:\n",
    "            # Keep as is\n",
    "            balanced_df = class_df\n",
    "        balanced_dfs.append(balanced_df)\n",
    "\n",
    "    # Combine all balanced classes\n",
    "    balanced_df = pd.concat(balanced_dfs)\n",
    "\n",
    "    # Convert labels to strings\n",
    "    balanced_df['label'] = balanced_df['label'].map(idx_to_class)\n",
    "\n",
    "    # Print new class distribution\n",
    "    print(\"\\nClass distribution after balancing:\")\n",
    "    print(balanced_df['label'].value_counts())\n",
    "\n",
    "    # Create a DataFrame for the balanced counts\n",
    "    balanced_counts = balanced_df['label'].value_counts().to_frame().transpose()\n",
    "    balanced_counts.index = ['Counts']\n",
    "\n",
    "    # Create a new ImageDataGenerator for balanced data\n",
    "    balanced_datagen = ImageDataGenerator(\n",
    "    preprocessing_function=preprocess_input,\n",
    "    rotation_range=20,\n",
    "    width_shift_range=0.2,\n",
    "    height_shift_range=0.2,\n",
    "    shear_range=0.2,\n",
    "    horizontal_flip=True,\n",
    "    zoom_range=0.2,\n",
    "    brightness_range=[0.8, 1.2],\n",
    "    channel_shift_range=20.0  # color jittering\n",
    ")\n",
    "\n",
    "    # Load balanced data\n",
    "    train_data_balanced = balanced_datagen.flow_from_dataframe(\n",
    "        balanced_df,\n",
    "        x_col='path',\n",
    "        y_col='label',\n",
    "        target_size=image_size,\n",
    "        batch_size=BATCH_SIZE,\n",
    "        color_mode=\"rgb\",\n",
    "        class_mode=\"categorical\",\n",
    "        shuffle=True\n",
    "    )\n",
    "\n",
    "    return train_data_balanced, balanced_counts\n",
    "\n",
    "# Replace train_data with balanced data and get balanced counts\n",
    "train_data, oversampled_train_count = oversample_minority_classes(train_data, target_count=4898)\n",
    "\n",
    "# Print updated training samples\n",
    "print(f\"Training samples (after balancing): {train_data.samples}\")"
   ],
   "id": "e317833bb31f10f9",
   "outputs": [
    {
     "name": "stdout",
     "output_type": "stream",
     "text": [
      "Original class distribution (before split):\n",
      "label\n",
      "happy       6122\n",
      "neutral     4314\n",
      "sad         3556\n",
      "angry       3214\n",
      "fear        3068\n",
      "surprise    2242\n",
      "disgust      280\n",
      "Name: count, dtype: int64\n",
      "\n",
      "Class distribution after 80% training split (before oversampling):\n",
      "label\n",
      "happy       4924\n",
      "neutral     3473\n",
      "sad         2840\n",
      "angry       2580\n",
      "fear        2449\n",
      "surprise    1751\n",
      "disgust      220\n",
      "Name: count, dtype: int64\n",
      "\n",
      "Target count per class for balancing: 4898\n",
      "\n",
      "Class distribution after balancing:\n",
      "label\n",
      "angry       4898\n",
      "disgust     4898\n",
      "fear        4898\n",
      "happy       4898\n",
      "neutral     4898\n",
      "sad         4898\n",
      "surprise    4898\n",
      "Name: count, dtype: int64\n",
      "Found 34286 validated image filenames belonging to 7 classes.\n",
      "Training samples (after balancing): 34286\n"
     ]
    }
   ],
   "execution_count": 124
  },
  {
   "metadata": {
    "ExecuteTime": {
     "end_time": "2025-03-22T19:35:25.696147Z",
     "start_time": "2025-03-22T19:35:25.400114Z"
    }
   },
   "cell_type": "code",
   "source": [
    "def count_images_in_file(directory):\n",
    "    counts = {}\n",
    "    for subdir in os.listdir(directory):\n",
    "        subdir_path = os.path.join(directory, subdir)\n",
    "        if os.path.isdir(subdir_path):\n",
    "            counts[subdir] = sum(1 for file in os.listdir(subdir_path) if os.path.isfile(os.path.join(subdir_path, file)))\n",
    "    df = pd.DataFrame(counts, index=['Counts'])\n",
    "    return df\n",
    "\n",
    "train_count = count_images_in_file('FER2013_MTCNN_SHA-256/train')\n",
    "test_count = count_images_in_file('FER2013_MTCNN_SHA-256/test')\n",
    "\n",
    "print(\"Original on-disk training counts:\")\n",
    "print(train_count)\n",
    "print(\"Test counts:\")\n",
    "print(test_count)"
   ],
   "id": "669bfa4c863a60d2",
   "outputs": [
    {
     "name": "stdout",
     "output_type": "stream",
     "text": [
      "Original on-disk training counts:\n",
      "        angry  disgust  fear  happy  neutral   sad  surprise\n",
      "Counts   3214      280  3068   6122     4314  3556      2242\n",
      "Test counts:\n",
      "        angry  disgust  fear  happy  neutral  sad  surprise\n",
      "Counts    722      678   730   1469     1039  923       470\n"
     ]
    }
   ],
   "execution_count": 125
  },
  {
   "metadata": {
    "ExecuteTime": {
     "end_time": "2025-03-22T19:35:25.964404Z",
     "start_time": "2025-03-22T19:35:25.708696Z"
    }
   },
   "cell_type": "code",
   "source": [
    "# Plot original on-disk training counts\n",
    "train_count.transpose().plot(kind='bar', title=\"Original On-Disk Training Class Distribution\")\n",
    "plt.show()\n",
    "\n",
    "# Plot balanced training counts\n",
    "oversampled_train_count.transpose().plot(kind='bar', title=\"Balanced Training Class Distribution\")\n",
    "plt.show()\n",
    "\n",
    "# Plot test counts (unchanged)\n",
    "test_count.transpose().plot(kind='bar', title=\"Test Class Distribution\")\n",
    "plt.show()"
   ],
   "id": "58ae31e633336b22",
   "outputs": [
    {
     "data": {
      "text/plain": [
       "<Figure size 640x480 with 1 Axes>"
      ],
      "image/png": "[encoded data removed]"
     },
     "metadata": {},
     "output_type": "display_data"
    },
    {
     "data": {
      "text/plain": [
       "<Figure size 640x480 with 1 Axes>"
      ],
      "image/png": "[encoded data removed]"
     },
     "metadata": {},
     "output_type": "display_data"
    },
    {
     "data": {
      "text/plain": [
       "<Figure size 640x480 with 1 Axes>"
      ],
      "image/png": "[encoded data removed]"
     },
     "metadata": {},
     "output_type": "display_data"
    }
   ],
   "execution_count": 126
  },
  {
   "metadata": {
    "ExecuteTime": {
     "end_time": "2025-03-22T19:35:25.988623Z",
     "start_time": "2025-03-22T19:35:25.984524Z"
    }
   },
   "cell_type": "code",
   "source": [
    "class FocalLoss(tf.keras.losses.Loss):\n",
    "    def __init__(self, alpha=0.25, gamma=2.0):\n",
    "        super(FocalLoss, self).__init__()\n",
    "        self.alpha = alpha\n",
    "        self.gamma = gamma\n",
    "\n",
    "    def call(self, y_true, y_pred):\n",
    "        # Ensure y_pred is clipped to avoid log(0)\n",
    "        y_pred = tf.clip_by_value(y_pred, 1e-7, 1.0 - 1e-7)\n",
    "\n",
    "        # Compute cross-entropy loss\n",
    "        ce_loss = -y_true * tf.math.log(y_pred)\n",
    "\n",
    "        # Compute focal factor: (1 - y_pred)^gamma for the true class\n",
    "        focal_factor = tf.pow(1.0 - y_pred, self.gamma)\n",
    "\n",
    "        # Apply focal factor and alpha weighting\n",
    "        focal_loss = self.alpha * focal_factor * ce_loss\n",
    "\n",
    "        # Sum over the class dimension and average over the batch\n",
    "        return tf.reduce_mean(tf.reduce_sum(focal_loss, axis=-1))"
   ],
   "id": "4e2e2b17cee765c5",
   "outputs": [],
   "execution_count": 127
  },
  {
   "metadata": {
    "ExecuteTime": {
     "end_time": "2025-03-22T19:35:26.244770Z",
     "start_time": "2025-03-22T19:35:26.017807Z"
    }
   },
   "cell_type": "code",
   "source": [
    "def build_vgg16_model(num_classes=7):\n",
    "    # Load pre-trained VGG16\n",
    "    base_model = VGG16(weights='imagenet', include_top=False, input_shape=(224, 224, 3))\n",
    "\n",
    "    # Freeze VGG16 layers initially\n",
    "    for layer in base_model.layers:\n",
    "        layer.trainable = False\n",
    "\n",
    "    # Input\n",
    "    inputs = Input(shape=(224, 224, 3))\n",
    "\n",
    "    # Pass through VGG16\n",
    "    x = base_model(inputs, training=False)\n",
    "\n",
    "    # Global average pooling to reduce spatial dimensions\n",
    "    x = GlobalAveragePooling2D()(x)\n",
    "\n",
    "    # Dense layers for classification\n",
    "    x = Dense(128, activation='relu', kernel_regularizer=tf.keras.regularizers.l2(0.01))(x)\n",
    "    x = BatchNormalization()(x)\n",
    "    x = Dropout(0.6)(x)\n",
    "\n",
    "    x = Dense(64, activation='relu', kernel_regularizer=tf.keras.regularizers.l2(0.01))(x)\n",
    "    x = BatchNormalization()(x)\n",
    "    x = Dropout(0.4)(x)\n",
    "\n",
    "    outputs = Dense(num_classes, activation='softmax')(x)\n",
    "\n",
    "    # Create model\n",
    "    model = Model(inputs, outputs, name='VGG16_FER')\n",
    "\n",
    "    return model, base_model\n",
    "\n",
    "# Build model\n",
    "model, base_model = build_vgg16_model(num_classes=7)\n",
    "\n",
    "# Compile Model\n",
    "model.compile(\n",
    "    optimizer=tf.keras.optimizers.Adam(learning_rate=1e-3, clipnorm=1.0, decay=1e-4),\n",
    "    loss=FocalLoss(alpha=0.25, gamma=3.0),\n",
    "    metrics=['accuracy']\n",
    ")\n",
    "\n",
    "# Model Summary\n",
    "model.summary()"
   ],
   "id": "225db3d8310894bd",
   "outputs": [
    {
     "name": "stderr",
     "output_type": "stream",
     "text": [
      "C:\\Users\\LENOVO\\PycharmProjects\\PsychoAI\\.venv\\Lib\\site-packages\\keras\\src\\optimizers\\base_optimizer.py:86: UserWarning: Argument `decay` is no longer supported and will be ignored.\n",
      "  warnings.warn(\n"
     ]
    },
    {
     "data": {
      "text/plain": [
       "\u001B[1mModel: \"VGG16_FER\"\u001B[0m\n"
      ],
      "text/html": [
       "<pre style=\"white-space:pre;overflow-x:auto;line-height:normal;font-family:Menlo,'DejaVu Sans Mono',consolas,'Courier New',monospace\"><span style=\"font-weight: bold\">Model: \"VGG16_FER\"</span>\n",
       "</pre>\n"
      ]
     },
     "metadata": {},
     "output_type": "display_data"
    },
    {
     "data": {
      "text/plain": [
       "┏━━━━━━━━━━━━━━━━━━━━━━━━━━━━━━━━━┳━━━━━━━━━━━━━━━━━━━━━━━━┳━━━━━━━━━━━━━━━┓\n",
       "┃\u001B[1m \u001B[0m\u001B[1mLayer (type)                   \u001B[0m\u001B[1m \u001B[0m┃\u001B[1m \u001B[0m\u001B[1mOutput Shape          \u001B[0m\u001B[1m \u001B[0m┃\u001B[1m \u001B[0m\u001B[1m      Param #\u001B[0m\u001B[1m \u001B[0m┃\n",
       "┡━━━━━━━━━━━━━━━━━━━━━━━━━━━━━━━━━╇━━━━━━━━━━━━━━━━━━━━━━━━╇━━━━━━━━━━━━━━━┩\n",
       "│ input_layer_15 (\u001B[38;5;33mInputLayer\u001B[0m)     │ (\u001B[38;5;45mNone\u001B[0m, \u001B[38;5;34m224\u001B[0m, \u001B[38;5;34m224\u001B[0m, \u001B[38;5;34m3\u001B[0m)    │             \u001B[38;5;34m0\u001B[0m │\n",
       "├─────────────────────────────────┼────────────────────────┼───────────────┤\n",
       "│ vgg16 (\u001B[38;5;33mFunctional\u001B[0m)              │ (\u001B[38;5;45mNone\u001B[0m, \u001B[38;5;34m7\u001B[0m, \u001B[38;5;34m7\u001B[0m, \u001B[38;5;34m512\u001B[0m)      │    \u001B[38;5;34m14,714,688\u001B[0m │\n",
       "├─────────────────────────────────┼────────────────────────┼───────────────┤\n",
       "│ global_average_pooling2d_7      │ (\u001B[38;5;45mNone\u001B[0m, \u001B[38;5;34m512\u001B[0m)            │             \u001B[38;5;34m0\u001B[0m │\n",
       "│ (\u001B[38;5;33mGlobalAveragePooling2D\u001B[0m)        │                        │               │\n",
       "├─────────────────────────────────┼────────────────────────┼───────────────┤\n",
       "│ dense_21 (\u001B[38;5;33mDense\u001B[0m)                │ (\u001B[38;5;45mNone\u001B[0m, \u001B[38;5;34m128\u001B[0m)            │        \u001B[38;5;34m65,664\u001B[0m │\n",
       "├─────────────────────────────────┼────────────────────────┼───────────────┤\n",
       "│ batch_normalization_18          │ (\u001B[38;5;45mNone\u001B[0m, \u001B[38;5;34m128\u001B[0m)            │           \u001B[38;5;34m512\u001B[0m │\n",
       "│ (\u001B[38;5;33mBatchNormalization\u001B[0m)            │                        │               │\n",
       "├─────────────────────────────────┼────────────────────────┼───────────────┤\n",
       "│ dropout_16 (\u001B[38;5;33mDropout\u001B[0m)            │ (\u001B[38;5;45mNone\u001B[0m, \u001B[38;5;34m128\u001B[0m)            │             \u001B[38;5;34m0\u001B[0m │\n",
       "├─────────────────────────────────┼────────────────────────┼───────────────┤\n",
       "│ dense_22 (\u001B[38;5;33mDense\u001B[0m)                │ (\u001B[38;5;45mNone\u001B[0m, \u001B[38;5;34m64\u001B[0m)             │         \u001B[38;5;34m8,256\u001B[0m │\n",
       "├─────────────────────────────────┼────────────────────────┼───────────────┤\n",
       "│ batch_normalization_19          │ (\u001B[38;5;45mNone\u001B[0m, \u001B[38;5;34m64\u001B[0m)             │           \u001B[38;5;34m256\u001B[0m │\n",
       "│ (\u001B[38;5;33mBatchNormalization\u001B[0m)            │                        │               │\n",
       "├─────────────────────────────────┼────────────────────────┼───────────────┤\n",
       "│ dropout_17 (\u001B[38;5;33mDropout\u001B[0m)            │ (\u001B[38;5;45mNone\u001B[0m, \u001B[38;5;34m64\u001B[0m)             │             \u001B[38;5;34m0\u001B[0m │\n",
       "├─────────────────────────────────┼────────────────────────┼───────────────┤\n",
       "│ dense_23 (\u001B[38;5;33mDense\u001B[0m)                │ (\u001B[38;5;45mNone\u001B[0m, \u001B[38;5;34m7\u001B[0m)              │           \u001B[38;5;34m455\u001B[0m │\n",
       "└─────────────────────────────────┴────────────────────────┴───────────────┘\n"
      ],
      "text/html": [
       "<pre style=\"white-space:pre;overflow-x:auto;line-height:normal;font-family:Menlo,'DejaVu Sans Mono',consolas,'Courier New',monospace\">┏━━━━━━━━━━━━━━━━━━━━━━━━━━━━━━━━━┳━━━━━━━━━━━━━━━━━━━━━━━━┳━━━━━━━━━━━━━━━┓\n",
       "┃<span style=\"font-weight: bold\"> Layer (type)                    </span>┃<span style=\"font-weight: bold\"> Output Shape           </span>┃<span style=\"font-weight: bold\">       Param # </span>┃\n",
       "┡━━━━━━━━━━━━━━━━━━━━━━━━━━━━━━━━━╇━━━━━━━━━━━━━━━━━━━━━━━━╇━━━━━━━━━━━━━━━┩\n",
       "│ input_layer_15 (<span style=\"color: #0087ff; text-decoration-color: #0087ff\">InputLayer</span>)     │ (<span style=\"color: #00d7ff; text-decoration-color: #00d7ff\">None</span>, <span style=\"color: #00af00; text-decoration-color: #00af00\">224</span>, <span style=\"color: #00af00; text-decoration-color: #00af00\">224</span>, <span style=\"color: #00af00; text-decoration-color: #00af00\">3</span>)    │             <span style=\"color: #00af00; text-decoration-color: #00af00\">0</span> │\n",
       "├─────────────────────────────────┼────────────────────────┼───────────────┤\n",
       "│ vgg16 (<span style=\"color: #0087ff; text-decoration-color: #0087ff\">Functional</span>)              │ (<span style=\"color: #00d7ff; text-decoration-color: #00d7ff\">None</span>, <span style=\"color: #00af00; text-decoration-color: #00af00\">7</span>, <span style=\"color: #00af00; text-decoration-color: #00af00\">7</span>, <span style=\"color: #00af00; text-decoration-color: #00af00\">512</span>)      │    <span style=\"color: #00af00; text-decoration-color: #00af00\">14,714,688</span> │\n",
       "├─────────────────────────────────┼────────────────────────┼───────────────┤\n",
       "│ global_average_pooling2d_7      │ (<span style=\"color: #00d7ff; text-decoration-color: #00d7ff\">None</span>, <span style=\"color: #00af00; text-decoration-color: #00af00\">512</span>)            │             <span style=\"color: #00af00; text-decoration-color: #00af00\">0</span> │\n",
       "│ (<span style=\"color: #0087ff; text-decoration-color: #0087ff\">GlobalAveragePooling2D</span>)        │                        │               │\n",
       "├─────────────────────────────────┼────────────────────────┼───────────────┤\n",
       "│ dense_21 (<span style=\"color: #0087ff; text-decoration-color: #0087ff\">Dense</span>)                │ (<span style=\"color: #00d7ff; text-decoration-color: #00d7ff\">None</span>, <span style=\"color: #00af00; text-decoration-color: #00af00\">128</span>)            │        <span style=\"color: #00af00; text-decoration-color: #00af00\">65,664</span> │\n",
       "├─────────────────────────────────┼────────────────────────┼───────────────┤\n",
       "│ batch_normalization_18          │ (<span style=\"color: #00d7ff; text-decoration-color: #00d7ff\">None</span>, <span style=\"color: #00af00; text-decoration-color: #00af00\">128</span>)            │           <span style=\"color: #00af00; text-decoration-color: #00af00\">512</span> │\n",
       "│ (<span style=\"color: #0087ff; text-decoration-color: #0087ff\">BatchNormalization</span>)            │                        │               │\n",
       "├─────────────────────────────────┼────────────────────────┼───────────────┤\n",
       "│ dropout_16 (<span style=\"color: #0087ff; text-decoration-color: #0087ff\">Dropout</span>)            │ (<span style=\"color: #00d7ff; text-decoration-color: #00d7ff\">None</span>, <span style=\"color: #00af00; text-decoration-color: #00af00\">128</span>)            │             <span style=\"color: #00af00; text-decoration-color: #00af00\">0</span> │\n",
       "├─────────────────────────────────┼────────────────────────┼───────────────┤\n",
       "│ dense_22 (<span style=\"color: #0087ff; text-decoration-color: #0087ff\">Dense</span>)                │ (<span style=\"color: #00d7ff; text-decoration-color: #00d7ff\">None</span>, <span style=\"color: #00af00; text-decoration-color: #00af00\">64</span>)             │         <span style=\"color: #00af00; text-decoration-color: #00af00\">8,256</span> │\n",
       "├─────────────────────────────────┼────────────────────────┼───────────────┤\n",
       "│ batch_normalization_19          │ (<span style=\"color: #00d7ff; text-decoration-color: #00d7ff\">None</span>, <span style=\"color: #00af00; text-decoration-color: #00af00\">64</span>)             │           <span style=\"color: #00af00; text-decoration-color: #00af00\">256</span> │\n",
       "│ (<span style=\"color: #0087ff; text-decoration-color: #0087ff\">BatchNormalization</span>)            │                        │               │\n",
       "├─────────────────────────────────┼────────────────────────┼───────────────┤\n",
       "│ dropout_17 (<span style=\"color: #0087ff; text-decoration-color: #0087ff\">Dropout</span>)            │ (<span style=\"color: #00d7ff; text-decoration-color: #00d7ff\">None</span>, <span style=\"color: #00af00; text-decoration-color: #00af00\">64</span>)             │             <span style=\"color: #00af00; text-decoration-color: #00af00\">0</span> │\n",
       "├─────────────────────────────────┼────────────────────────┼───────────────┤\n",
       "│ dense_23 (<span style=\"color: #0087ff; text-decoration-color: #0087ff\">Dense</span>)                │ (<span style=\"color: #00d7ff; text-decoration-color: #00d7ff\">None</span>, <span style=\"color: #00af00; text-decoration-color: #00af00\">7</span>)              │           <span style=\"color: #00af00; text-decoration-color: #00af00\">455</span> │\n",
       "└─────────────────────────────────┴────────────────────────┴───────────────┘\n",
       "</pre>\n"
      ]
     },
     "metadata": {},
     "output_type": "display_data"
    },
    {
     "data": {
      "text/plain": [
       "\u001B[1m Total params: \u001B[0m\u001B[38;5;34m14,789,831\u001B[0m (56.42 MB)\n"
      ],
      "text/html": [
       "<pre style=\"white-space:pre;overflow-x:auto;line-height:normal;font-family:Menlo,'DejaVu Sans Mono',consolas,'Courier New',monospace\"><span style=\"font-weight: bold\"> Total params: </span><span style=\"color: #00af00; text-decoration-color: #00af00\">14,789,831</span> (56.42 MB)\n",
       "</pre>\n"
      ]
     },
     "metadata": {},
     "output_type": "display_data"
    },
    {
     "data": {
      "text/plain": [
       "\u001B[1m Trainable params: \u001B[0m\u001B[38;5;34m74,759\u001B[0m (292.03 KB)\n"
      ],
      "text/html": [
       "<pre style=\"white-space:pre;overflow-x:auto;line-height:normal;font-family:Menlo,'DejaVu Sans Mono',consolas,'Courier New',monospace\"><span style=\"font-weight: bold\"> Trainable params: </span><span style=\"color: #00af00; text-decoration-color: #00af00\">74,759</span> (292.03 KB)\n",
       "</pre>\n"
      ]
     },
     "metadata": {},
     "output_type": "display_data"
    },
    {
     "data": {
      "text/plain": [
       "\u001B[1m Non-trainable params: \u001B[0m\u001B[38;5;34m14,715,072\u001B[0m (56.13 MB)\n"
      ],
      "text/html": [
       "<pre style=\"white-space:pre;overflow-x:auto;line-height:normal;font-family:Menlo,'DejaVu Sans Mono',consolas,'Courier New',monospace\"><span style=\"font-weight: bold\"> Non-trainable params: </span><span style=\"color: #00af00; text-decoration-color: #00af00\">14,715,072</span> (56.13 MB)\n",
       "</pre>\n"
      ]
     },
     "metadata": {},
     "output_type": "display_data"
    }
   ],
   "execution_count": 128
  },
  {
   "metadata": {
    "ExecuteTime": {
     "end_time": "2025-03-22T19:35:26.411271Z",
     "start_time": "2025-03-22T19:35:26.263891Z"
    }
   },
   "cell_type": "code",
   "source": [
    "# Balance the validation set\n",
    "def balance_validation_data(val_data, target_count=1000):\n",
    "    class_indices = val_data.class_indices\n",
    "    idx_to_class = {v: k for k, v in class_indices.items()}\n",
    "\n",
    "    image_paths = []\n",
    "    labels = []\n",
    "    for subdir in os.listdir(os.path.join(DATASET_DIRECTORY, \"train\")):\n",
    "        subdir_path = os.path.join(DATASET_DIRECTORY, \"train\", subdir)\n",
    "        if os.path.isdir(subdir_path):\n",
    "            for img_name in os.listdir(subdir_path):\n",
    "                if img_name.endswith(('.jpg', '.png')):\n",
    "                    image_paths.append(os.path.join(subdir_path, img_name))\n",
    "                    labels.append(class_indices[subdir])\n",
    "\n",
    "    df = pd.DataFrame({'path': image_paths, 'label': labels})\n",
    "    val_df = df.drop(df.sample(frac=0.8, random_state=42).index)  # Take the remaining 20%\n",
    "\n",
    "    balanced_dfs = []\n",
    "    for class_idx in class_indices.values():\n",
    "        class_df = val_df[val_df['label'] == class_idx]\n",
    "        current_count = len(class_df)\n",
    "        if current_count < target_count:\n",
    "            oversampled_class = resample(class_df, replace=True, n_samples=target_count - current_count, random_state=42)\n",
    "            balanced_df = pd.concat([class_df, oversampled_class])\n",
    "        elif current_count > target_count:\n",
    "            balanced_df = resample(class_df, replace=False, n_samples=target_count, random_state=42)\n",
    "        else:\n",
    "            balanced_df = class_df\n",
    "        balanced_dfs.append(balanced_df)\n",
    "\n",
    "    balanced_val_df = pd.concat(balanced_dfs)\n",
    "    balanced_val_df['label'] = balanced_val_df['label'].map(idx_to_class)\n",
    "\n",
    "    val_datagen = ImageDataGenerator(rescale=1./255)\n",
    "    val_data_balanced = val_datagen.flow_from_dataframe(\n",
    "        balanced_val_df,\n",
    "        x_col='path',\n",
    "        y_col='label',\n",
    "        target_size=image_size,\n",
    "        batch_size=BATCH_SIZE,\n",
    "        color_mode=\"rgb\",\n",
    "        class_mode=\"categorical\",\n",
    "        shuffle=False\n",
    "    )\n",
    "\n",
    "    return val_data_balanced\n",
    "\n",
    "# Replace val_data with balanced validation data\n",
    "val_data = balance_validation_data(val_data, target_count=1000)"
   ],
   "id": "a80e283423fbac04",
   "outputs": [
    {
     "name": "stdout",
     "output_type": "stream",
     "text": [
      "Found 7000 validated image filenames belonging to 7 classes.\n"
     ]
    }
   ],
   "execution_count": 129
  },
  {
   "metadata": {
    "ExecuteTime": {
     "end_time": "2025-03-22T19:35:26.428476Z",
     "start_time": "2025-03-22T19:35:26.422988Z"
    }
   },
   "cell_type": "code",
   "source": [
    "early_stop = EarlyStopping(\n",
    "    monitor='val_loss',\n",
    "    patience=5,\n",
    "    restore_best_weights=True,\n",
    "    verbose=1\n",
    ")\n",
    "\n",
    "reduce_lr = ReduceLROnPlateau(\n",
    "    monitor='val_accuracy',\n",
    "    factor=0.5,\n",
    "    patience=3,\n",
    "    min_lr=1e-6,\n",
    "    verbose=1\n",
    ")\n",
    "\n",
    "checkpoint = ModelCheckpoint(\n",
    "    'best_vgg16_model.keras',\n",
    "    monitor='val_accuracy',\n",
    "    save_best_only=True,\n",
    "    mode='max',\n",
    "    verbose=1\n",
    ")"
   ],
   "id": "f85b7a28d4afc593",
   "outputs": [],
   "execution_count": 130
  },
  {
   "metadata": {
    "ExecuteTime": {
     "end_time": "2025-03-22T19:35:26.462107Z",
     "start_time": "2025-03-22T19:35:26.453037Z"
    }
   },
   "cell_type": "code",
   "source": [
    "# Get the class labels assigned to each image in the training dataset\n",
    "y_train = train_data.classes  # Extract labels from train_data\n",
    "\n",
    "# Compute class weights\n",
    "class_weights = compute_class_weight('balanced', classes=np.unique(y_train), y=y_train)\n",
    "\n",
    "# Convert to dictionary format required by Keras\n",
    "class_weights = dict(enumerate(class_weights))\n",
    "\n",
    "print(\"Class weights:\", class_weights)"
   ],
   "id": "9276de361ab1580a",
   "outputs": [
    {
     "name": "stdout",
     "output_type": "stream",
     "text": [
      "Class weights: {0: np.float64(1.0), 1: np.float64(1.0), 2: np.float64(1.0), 3: np.float64(1.0), 4: np.float64(1.0), 5: np.float64(1.0), 6: np.float64(1.0)}\n"
     ]
    }
   ],
   "execution_count": 131
  },
  {
   "metadata": {
    "ExecuteTime": {
     "end_time": "2025-03-22T19:35:26.470852Z",
     "start_time": "2025-03-22T19:35:26.464112Z"
    }
   },
   "cell_type": "code",
   "source": [
    "class PrintTrainingProgress(Callback):\n",
    "    def on_epoch_end(self, epoch, logs=None):\n",
    "        print(f\"Epoch {epoch+1}: loss = {logs['loss']:.4f}, accuracy = {logs['accuracy']:.4f}, \"\n",
    "              f\"val_loss = {logs['val_loss']:.4f}, val_accuracy = {logs['val_accuracy']:.4f}\")"
   ],
   "id": "2f995f3c523cad85",
   "outputs": [],
   "execution_count": 132
  },
  {
   "metadata": {
    "ExecuteTime": {
     "end_time": "2025-03-22T20:17:56.236819Z",
     "start_time": "2025-03-22T19:35:26.494006Z"
    }
   },
   "cell_type": "code",
   "source": [
    "# Fine-Tune the Model\n",
    "# Stage 1: Train the new layers\n",
    "print(\"Stage 1: Training the new layers...\")\n",
    "history_initial = model.fit(\n",
    "    train_data,\n",
    "    validation_data=val_data,\n",
    "    epochs=5,\n",
    "    class_weight=class_weights,\n",
    "    callbacks=[early_stop, reduce_lr, checkpoint, PrintTrainingProgress()]\n",
    ")"
   ],
   "id": "e3caba12cb064954",
   "outputs": [
    {
     "name": "stdout",
     "output_type": "stream",
     "text": [
      "Stage 1: Training the new layers...\n"
     ]
    },
    {
     "name": "stderr",
     "output_type": "stream",
     "text": [
      "C:\\Users\\LENOVO\\PycharmProjects\\PsychoAI\\.venv\\Lib\\site-packages\\keras\\src\\trainers\\data_adapters\\py_dataset_adapter.py:121: UserWarning: Your `PyDataset` class should call `super().__init__(**kwargs)` in its constructor. `**kwargs` can include `workers`, `use_multiprocessing`, `max_queue_size`. Do not pass these arguments to `fit()`, as they will be ignored.\n",
      "  self._warn_if_super_not_called()\n"
     ]
    },
    {
     "name": "stdout",
     "output_type": "stream",
     "text": [
      "Epoch 1/5\n",
      "\u001B[1m536/536\u001B[0m \u001B[32m━━━━━━━━━━━━━━━━━━━━\u001B[0m\u001B[37m\u001B[0m \u001B[1m0s\u001B[0m 4s/step - accuracy: 0.1788 - loss: 1.7187\n",
      "Epoch 1: val_accuracy improved from -inf to 0.14286, saving model to best_vgg16_model.keras\n",
      "Epoch 1: loss = 1.0262, accuracy = 0.2013, val_loss = 0.4715, val_accuracy = 0.1429\n",
      "\u001B[1m536/536\u001B[0m \u001B[32m━━━━━━━━━━━━━━━━━━━━\u001B[0m\u001B[37m\u001B[0m \u001B[1m2501s\u001B[0m 5s/step - accuracy: 0.1788 - loss: 1.7174 - val_accuracy: 0.1429 - val_loss: 0.4715 - learning_rate: 0.0010\n",
      "Epoch 2/5\n",
      "\u001B[1m 10/536\u001B[0m \u001B[37m━━━━━━━━━━━━━━━━━━━━\u001B[0m \u001B[1m37:18\u001B[0m 4s/step - accuracy: 0.2465 - loss: 0.4124"
     ]
    },
    {
     "ename": "KeyboardInterrupt",
     "evalue": "",
     "output_type": "error",
     "traceback": [
      "\u001B[31m---------------------------------------------------------------------------\u001B[39m",
      "\u001B[31mKeyboardInterrupt\u001B[39m                         Traceback (most recent call last)",
      "\u001B[36mCell\u001B[39m\u001B[36m \u001B[39m\u001B[32mIn[133]\u001B[39m\u001B[32m, line 4\u001B[39m\n\u001B[32m      1\u001B[39m \u001B[38;5;66;03m# Fine-Tune the Model\u001B[39;00m\n\u001B[32m      2\u001B[39m \u001B[38;5;66;03m# Stage 1: Train the new layers\u001B[39;00m\n\u001B[32m      3\u001B[39m \u001B[38;5;28mprint\u001B[39m(\u001B[33m\"\u001B[39m\u001B[33mStage 1: Training the new layers...\u001B[39m\u001B[33m\"\u001B[39m)\n\u001B[32m----> \u001B[39m\u001B[32m4\u001B[39m history_initial = \u001B[43mmodel\u001B[49m\u001B[43m.\u001B[49m\u001B[43mfit\u001B[49m\u001B[43m(\u001B[49m\n\u001B[32m      5\u001B[39m \u001B[43m    \u001B[49m\u001B[43mtrain_data\u001B[49m\u001B[43m,\u001B[49m\n\u001B[32m      6\u001B[39m \u001B[43m    \u001B[49m\u001B[43mvalidation_data\u001B[49m\u001B[43m=\u001B[49m\u001B[43mval_data\u001B[49m\u001B[43m,\u001B[49m\n\u001B[32m      7\u001B[39m \u001B[43m    \u001B[49m\u001B[43mepochs\u001B[49m\u001B[43m=\u001B[49m\u001B[32;43m5\u001B[39;49m\u001B[43m,\u001B[49m\n\u001B[32m      8\u001B[39m \u001B[43m    \u001B[49m\u001B[43mclass_weight\u001B[49m\u001B[43m=\u001B[49m\u001B[43mclass_weights\u001B[49m\u001B[43m,\u001B[49m\n\u001B[32m      9\u001B[39m \u001B[43m    \u001B[49m\u001B[43mcallbacks\u001B[49m\u001B[43m=\u001B[49m\u001B[43m[\u001B[49m\u001B[43mearly_stop\u001B[49m\u001B[43m,\u001B[49m\u001B[43m \u001B[49m\u001B[43mreduce_lr\u001B[49m\u001B[43m,\u001B[49m\u001B[43m \u001B[49m\u001B[43mcheckpoint\u001B[49m\u001B[43m,\u001B[49m\u001B[43m \u001B[49m\u001B[43mPrintTrainingProgress\u001B[49m\u001B[43m(\u001B[49m\u001B[43m)\u001B[49m\u001B[43m]\u001B[49m\n\u001B[32m     10\u001B[39m \u001B[43m)\u001B[49m\n",
      "\u001B[36mFile \u001B[39m\u001B[32m~\\PycharmProjects\\PsychoAI\\.venv\\Lib\\site-packages\\keras\\src\\utils\\traceback_utils.py:117\u001B[39m, in \u001B[36mfilter_traceback.<locals>.error_handler\u001B[39m\u001B[34m(*args, **kwargs)\u001B[39m\n\u001B[32m    115\u001B[39m filtered_tb = \u001B[38;5;28;01mNone\u001B[39;00m\n\u001B[32m    116\u001B[39m \u001B[38;5;28;01mtry\u001B[39;00m:\n\u001B[32m--> \u001B[39m\u001B[32m117\u001B[39m     \u001B[38;5;28;01mreturn\u001B[39;00m \u001B[43mfn\u001B[49m\u001B[43m(\u001B[49m\u001B[43m*\u001B[49m\u001B[43margs\u001B[49m\u001B[43m,\u001B[49m\u001B[43m \u001B[49m\u001B[43m*\u001B[49m\u001B[43m*\u001B[49m\u001B[43mkwargs\u001B[49m\u001B[43m)\u001B[49m\n\u001B[32m    118\u001B[39m \u001B[38;5;28;01mexcept\u001B[39;00m \u001B[38;5;167;01mException\u001B[39;00m \u001B[38;5;28;01mas\u001B[39;00m e:\n\u001B[32m    119\u001B[39m     filtered_tb = _process_traceback_frames(e.__traceback__)\n",
      "\u001B[36mFile \u001B[39m\u001B[32m~\\PycharmProjects\\PsychoAI\\.venv\\Lib\\site-packages\\keras\\src\\backend\\tensorflow\\trainer.py:371\u001B[39m, in \u001B[36mTensorFlowTrainer.fit\u001B[39m\u001B[34m(self, x, y, batch_size, epochs, verbose, callbacks, validation_split, validation_data, shuffle, class_weight, sample_weight, initial_epoch, steps_per_epoch, validation_steps, validation_batch_size, validation_freq)\u001B[39m\n\u001B[32m    369\u001B[39m \u001B[38;5;28;01mfor\u001B[39;00m step, iterator \u001B[38;5;129;01min\u001B[39;00m epoch_iterator:\n\u001B[32m    370\u001B[39m     callbacks.on_train_batch_begin(step)\n\u001B[32m--> \u001B[39m\u001B[32m371\u001B[39m     logs = \u001B[38;5;28;43mself\u001B[39;49m\u001B[43m.\u001B[49m\u001B[43mtrain_function\u001B[49m\u001B[43m(\u001B[49m\u001B[43miterator\u001B[49m\u001B[43m)\u001B[49m\n\u001B[32m    372\u001B[39m     callbacks.on_train_batch_end(step, logs)\n\u001B[32m    373\u001B[39m     \u001B[38;5;28;01mif\u001B[39;00m \u001B[38;5;28mself\u001B[39m.stop_training:\n",
      "\u001B[36mFile \u001B[39m\u001B[32m~\\PycharmProjects\\PsychoAI\\.venv\\Lib\\site-packages\\keras\\src\\backend\\tensorflow\\trainer.py:219\u001B[39m, in \u001B[36mTensorFlowTrainer._make_function.<locals>.function\u001B[39m\u001B[34m(iterator)\u001B[39m\n\u001B[32m    215\u001B[39m \u001B[38;5;28;01mdef\u001B[39;00m\u001B[38;5;250m \u001B[39m\u001B[34mfunction\u001B[39m(iterator):\n\u001B[32m    216\u001B[39m     \u001B[38;5;28;01mif\u001B[39;00m \u001B[38;5;28misinstance\u001B[39m(\n\u001B[32m    217\u001B[39m         iterator, (tf.data.Iterator, tf.distribute.DistributedIterator)\n\u001B[32m    218\u001B[39m     ):\n\u001B[32m--> \u001B[39m\u001B[32m219\u001B[39m         opt_outputs = \u001B[43mmulti_step_on_iterator\u001B[49m\u001B[43m(\u001B[49m\u001B[43miterator\u001B[49m\u001B[43m)\u001B[49m\n\u001B[32m    220\u001B[39m         \u001B[38;5;28;01mif\u001B[39;00m \u001B[38;5;129;01mnot\u001B[39;00m opt_outputs.has_value():\n\u001B[32m    221\u001B[39m             \u001B[38;5;28;01mraise\u001B[39;00m \u001B[38;5;167;01mStopIteration\u001B[39;00m\n",
      "\u001B[36mFile \u001B[39m\u001B[32m~\\PycharmProjects\\PsychoAI\\.venv\\Lib\\site-packages\\tensorflow\\python\\util\\traceback_utils.py:150\u001B[39m, in \u001B[36mfilter_traceback.<locals>.error_handler\u001B[39m\u001B[34m(*args, **kwargs)\u001B[39m\n\u001B[32m    148\u001B[39m filtered_tb = \u001B[38;5;28;01mNone\u001B[39;00m\n\u001B[32m    149\u001B[39m \u001B[38;5;28;01mtry\u001B[39;00m:\n\u001B[32m--> \u001B[39m\u001B[32m150\u001B[39m   \u001B[38;5;28;01mreturn\u001B[39;00m \u001B[43mfn\u001B[49m\u001B[43m(\u001B[49m\u001B[43m*\u001B[49m\u001B[43margs\u001B[49m\u001B[43m,\u001B[49m\u001B[43m \u001B[49m\u001B[43m*\u001B[49m\u001B[43m*\u001B[49m\u001B[43mkwargs\u001B[49m\u001B[43m)\u001B[49m\n\u001B[32m    151\u001B[39m \u001B[38;5;28;01mexcept\u001B[39;00m \u001B[38;5;167;01mException\u001B[39;00m \u001B[38;5;28;01mas\u001B[39;00m e:\n\u001B[32m    152\u001B[39m   filtered_tb = _process_traceback_frames(e.__traceback__)\n",
      "\u001B[36mFile \u001B[39m\u001B[32m~\\PycharmProjects\\PsychoAI\\.venv\\Lib\\site-packages\\tensorflow\\python\\eager\\polymorphic_function\\polymorphic_function.py:833\u001B[39m, in \u001B[36mFunction.__call__\u001B[39m\u001B[34m(self, *args, **kwds)\u001B[39m\n\u001B[32m    830\u001B[39m compiler = \u001B[33m\"\u001B[39m\u001B[33mxla\u001B[39m\u001B[33m\"\u001B[39m \u001B[38;5;28;01mif\u001B[39;00m \u001B[38;5;28mself\u001B[39m._jit_compile \u001B[38;5;28;01melse\u001B[39;00m \u001B[33m\"\u001B[39m\u001B[33mnonXla\u001B[39m\u001B[33m\"\u001B[39m\n\u001B[32m    832\u001B[39m \u001B[38;5;28;01mwith\u001B[39;00m OptionalXlaContext(\u001B[38;5;28mself\u001B[39m._jit_compile):\n\u001B[32m--> \u001B[39m\u001B[32m833\u001B[39m   result = \u001B[38;5;28;43mself\u001B[39;49m\u001B[43m.\u001B[49m\u001B[43m_call\u001B[49m\u001B[43m(\u001B[49m\u001B[43m*\u001B[49m\u001B[43margs\u001B[49m\u001B[43m,\u001B[49m\u001B[43m \u001B[49m\u001B[43m*\u001B[49m\u001B[43m*\u001B[49m\u001B[43mkwds\u001B[49m\u001B[43m)\u001B[49m\n\u001B[32m    835\u001B[39m new_tracing_count = \u001B[38;5;28mself\u001B[39m.experimental_get_tracing_count()\n\u001B[32m    836\u001B[39m without_tracing = (tracing_count == new_tracing_count)\n",
      "\u001B[36mFile \u001B[39m\u001B[32m~\\PycharmProjects\\PsychoAI\\.venv\\Lib\\site-packages\\tensorflow\\python\\eager\\polymorphic_function\\polymorphic_function.py:878\u001B[39m, in \u001B[36mFunction._call\u001B[39m\u001B[34m(self, *args, **kwds)\u001B[39m\n\u001B[32m    875\u001B[39m \u001B[38;5;28mself\u001B[39m._lock.release()\n\u001B[32m    876\u001B[39m \u001B[38;5;66;03m# In this case we have not created variables on the first call. So we can\u001B[39;00m\n\u001B[32m    877\u001B[39m \u001B[38;5;66;03m# run the first trace but we should fail if variables are created.\u001B[39;00m\n\u001B[32m--> \u001B[39m\u001B[32m878\u001B[39m results = \u001B[43mtracing_compilation\u001B[49m\u001B[43m.\u001B[49m\u001B[43mcall_function\u001B[49m\u001B[43m(\u001B[49m\n\u001B[32m    879\u001B[39m \u001B[43m    \u001B[49m\u001B[43margs\u001B[49m\u001B[43m,\u001B[49m\u001B[43m \u001B[49m\u001B[43mkwds\u001B[49m\u001B[43m,\u001B[49m\u001B[43m \u001B[49m\u001B[38;5;28;43mself\u001B[39;49m\u001B[43m.\u001B[49m\u001B[43m_variable_creation_config\u001B[49m\n\u001B[32m    880\u001B[39m \u001B[43m\u001B[49m\u001B[43m)\u001B[49m\n\u001B[32m    881\u001B[39m \u001B[38;5;28;01mif\u001B[39;00m \u001B[38;5;28mself\u001B[39m._created_variables:\n\u001B[32m    882\u001B[39m   \u001B[38;5;28;01mraise\u001B[39;00m \u001B[38;5;167;01mValueError\u001B[39;00m(\u001B[33m\"\u001B[39m\u001B[33mCreating variables on a non-first call to a function\u001B[39m\u001B[33m\"\u001B[39m\n\u001B[32m    883\u001B[39m                    \u001B[33m\"\u001B[39m\u001B[33m decorated with tf.function.\u001B[39m\u001B[33m\"\u001B[39m)\n",
      "\u001B[36mFile \u001B[39m\u001B[32m~\\PycharmProjects\\PsychoAI\\.venv\\Lib\\site-packages\\tensorflow\\python\\eager\\polymorphic_function\\tracing_compilation.py:139\u001B[39m, in \u001B[36mcall_function\u001B[39m\u001B[34m(args, kwargs, tracing_options)\u001B[39m\n\u001B[32m    137\u001B[39m bound_args = function.function_type.bind(*args, **kwargs)\n\u001B[32m    138\u001B[39m flat_inputs = function.function_type.unpack_inputs(bound_args)\n\u001B[32m--> \u001B[39m\u001B[32m139\u001B[39m \u001B[38;5;28;01mreturn\u001B[39;00m \u001B[43mfunction\u001B[49m\u001B[43m.\u001B[49m\u001B[43m_call_flat\u001B[49m\u001B[43m(\u001B[49m\u001B[43m  \u001B[49m\u001B[38;5;66;43;03m# pylint: disable=protected-access\u001B[39;49;00m\n\u001B[32m    140\u001B[39m \u001B[43m    \u001B[49m\u001B[43mflat_inputs\u001B[49m\u001B[43m,\u001B[49m\u001B[43m \u001B[49m\u001B[43mcaptured_inputs\u001B[49m\u001B[43m=\u001B[49m\u001B[43mfunction\u001B[49m\u001B[43m.\u001B[49m\u001B[43mcaptured_inputs\u001B[49m\n\u001B[32m    141\u001B[39m \u001B[43m\u001B[49m\u001B[43m)\u001B[49m\n",
      "\u001B[36mFile \u001B[39m\u001B[32m~\\PycharmProjects\\PsychoAI\\.venv\\Lib\\site-packages\\tensorflow\\python\\eager\\polymorphic_function\\concrete_function.py:1322\u001B[39m, in \u001B[36mConcreteFunction._call_flat\u001B[39m\u001B[34m(self, tensor_inputs, captured_inputs)\u001B[39m\n\u001B[32m   1318\u001B[39m possible_gradient_type = gradients_util.PossibleTapeGradientTypes(args)\n\u001B[32m   1319\u001B[39m \u001B[38;5;28;01mif\u001B[39;00m (possible_gradient_type == gradients_util.POSSIBLE_GRADIENT_TYPES_NONE\n\u001B[32m   1320\u001B[39m     \u001B[38;5;129;01mand\u001B[39;00m executing_eagerly):\n\u001B[32m   1321\u001B[39m   \u001B[38;5;66;03m# No tape is watching; skip to running the function.\u001B[39;00m\n\u001B[32m-> \u001B[39m\u001B[32m1322\u001B[39m   \u001B[38;5;28;01mreturn\u001B[39;00m \u001B[38;5;28;43mself\u001B[39;49m\u001B[43m.\u001B[49m\u001B[43m_inference_function\u001B[49m\u001B[43m.\u001B[49m\u001B[43mcall_preflattened\u001B[49m\u001B[43m(\u001B[49m\u001B[43margs\u001B[49m\u001B[43m)\u001B[49m\n\u001B[32m   1323\u001B[39m forward_backward = \u001B[38;5;28mself\u001B[39m._select_forward_and_backward_functions(\n\u001B[32m   1324\u001B[39m     args,\n\u001B[32m   1325\u001B[39m     possible_gradient_type,\n\u001B[32m   1326\u001B[39m     executing_eagerly)\n\u001B[32m   1327\u001B[39m forward_function, args_with_tangents = forward_backward.forward()\n",
      "\u001B[36mFile \u001B[39m\u001B[32m~\\PycharmProjects\\PsychoAI\\.venv\\Lib\\site-packages\\tensorflow\\python\\eager\\polymorphic_function\\atomic_function.py:216\u001B[39m, in \u001B[36mAtomicFunction.call_preflattened\u001B[39m\u001B[34m(self, args)\u001B[39m\n\u001B[32m    214\u001B[39m \u001B[38;5;28;01mdef\u001B[39;00m\u001B[38;5;250m \u001B[39m\u001B[34mcall_preflattened\u001B[39m(\u001B[38;5;28mself\u001B[39m, args: Sequence[core.Tensor]) -> Any:\n\u001B[32m    215\u001B[39m \u001B[38;5;250m  \u001B[39m\u001B[33;03m\"\"\"Calls with flattened tensor inputs and returns the structured output.\"\"\"\u001B[39;00m\n\u001B[32m--> \u001B[39m\u001B[32m216\u001B[39m   flat_outputs = \u001B[38;5;28;43mself\u001B[39;49m\u001B[43m.\u001B[49m\u001B[43mcall_flat\u001B[49m\u001B[43m(\u001B[49m\u001B[43m*\u001B[49m\u001B[43margs\u001B[49m\u001B[43m)\u001B[49m\n\u001B[32m    217\u001B[39m   \u001B[38;5;28;01mreturn\u001B[39;00m \u001B[38;5;28mself\u001B[39m.function_type.pack_output(flat_outputs)\n",
      "\u001B[36mFile \u001B[39m\u001B[32m~\\PycharmProjects\\PsychoAI\\.venv\\Lib\\site-packages\\tensorflow\\python\\eager\\polymorphic_function\\atomic_function.py:251\u001B[39m, in \u001B[36mAtomicFunction.call_flat\u001B[39m\u001B[34m(self, *args)\u001B[39m\n\u001B[32m    249\u001B[39m \u001B[38;5;28;01mwith\u001B[39;00m record.stop_recording():\n\u001B[32m    250\u001B[39m   \u001B[38;5;28;01mif\u001B[39;00m \u001B[38;5;28mself\u001B[39m._bound_context.executing_eagerly():\n\u001B[32m--> \u001B[39m\u001B[32m251\u001B[39m     outputs = \u001B[38;5;28;43mself\u001B[39;49m\u001B[43m.\u001B[49m\u001B[43m_bound_context\u001B[49m\u001B[43m.\u001B[49m\u001B[43mcall_function\u001B[49m\u001B[43m(\u001B[49m\n\u001B[32m    252\u001B[39m \u001B[43m        \u001B[49m\u001B[38;5;28;43mself\u001B[39;49m\u001B[43m.\u001B[49m\u001B[43mname\u001B[49m\u001B[43m,\u001B[49m\n\u001B[32m    253\u001B[39m \u001B[43m        \u001B[49m\u001B[38;5;28;43mlist\u001B[39;49m\u001B[43m(\u001B[49m\u001B[43margs\u001B[49m\u001B[43m)\u001B[49m\u001B[43m,\u001B[49m\n\u001B[32m    254\u001B[39m \u001B[43m        \u001B[49m\u001B[38;5;28;43mlen\u001B[39;49m\u001B[43m(\u001B[49m\u001B[38;5;28;43mself\u001B[39;49m\u001B[43m.\u001B[49m\u001B[43mfunction_type\u001B[49m\u001B[43m.\u001B[49m\u001B[43mflat_outputs\u001B[49m\u001B[43m)\u001B[49m\u001B[43m,\u001B[49m\n\u001B[32m    255\u001B[39m \u001B[43m    \u001B[49m\u001B[43m)\u001B[49m\n\u001B[32m    256\u001B[39m   \u001B[38;5;28;01melse\u001B[39;00m:\n\u001B[32m    257\u001B[39m     outputs = make_call_op_in_graph(\n\u001B[32m    258\u001B[39m         \u001B[38;5;28mself\u001B[39m,\n\u001B[32m    259\u001B[39m         \u001B[38;5;28mlist\u001B[39m(args),\n\u001B[32m    260\u001B[39m         \u001B[38;5;28mself\u001B[39m._bound_context.function_call_options.as_attrs(),\n\u001B[32m    261\u001B[39m     )\n",
      "\u001B[36mFile \u001B[39m\u001B[32m~\\PycharmProjects\\PsychoAI\\.venv\\Lib\\site-packages\\tensorflow\\python\\eager\\context.py:1688\u001B[39m, in \u001B[36mContext.call_function\u001B[39m\u001B[34m(self, name, tensor_inputs, num_outputs)\u001B[39m\n\u001B[32m   1686\u001B[39m cancellation_context = cancellation.context()\n\u001B[32m   1687\u001B[39m \u001B[38;5;28;01mif\u001B[39;00m cancellation_context \u001B[38;5;129;01mis\u001B[39;00m \u001B[38;5;28;01mNone\u001B[39;00m:\n\u001B[32m-> \u001B[39m\u001B[32m1688\u001B[39m   outputs = \u001B[43mexecute\u001B[49m\u001B[43m.\u001B[49m\u001B[43mexecute\u001B[49m\u001B[43m(\u001B[49m\n\u001B[32m   1689\u001B[39m \u001B[43m      \u001B[49m\u001B[43mname\u001B[49m\u001B[43m.\u001B[49m\u001B[43mdecode\u001B[49m\u001B[43m(\u001B[49m\u001B[33;43m\"\u001B[39;49m\u001B[33;43mutf-8\u001B[39;49m\u001B[33;43m\"\u001B[39;49m\u001B[43m)\u001B[49m\u001B[43m,\u001B[49m\n\u001B[32m   1690\u001B[39m \u001B[43m      \u001B[49m\u001B[43mnum_outputs\u001B[49m\u001B[43m=\u001B[49m\u001B[43mnum_outputs\u001B[49m\u001B[43m,\u001B[49m\n\u001B[32m   1691\u001B[39m \u001B[43m      \u001B[49m\u001B[43minputs\u001B[49m\u001B[43m=\u001B[49m\u001B[43mtensor_inputs\u001B[49m\u001B[43m,\u001B[49m\n\u001B[32m   1692\u001B[39m \u001B[43m      \u001B[49m\u001B[43mattrs\u001B[49m\u001B[43m=\u001B[49m\u001B[43mattrs\u001B[49m\u001B[43m,\u001B[49m\n\u001B[32m   1693\u001B[39m \u001B[43m      \u001B[49m\u001B[43mctx\u001B[49m\u001B[43m=\u001B[49m\u001B[38;5;28;43mself\u001B[39;49m\u001B[43m,\u001B[49m\n\u001B[32m   1694\u001B[39m \u001B[43m  \u001B[49m\u001B[43m)\u001B[49m\n\u001B[32m   1695\u001B[39m \u001B[38;5;28;01melse\u001B[39;00m:\n\u001B[32m   1696\u001B[39m   outputs = execute.execute_with_cancellation(\n\u001B[32m   1697\u001B[39m       name.decode(\u001B[33m\"\u001B[39m\u001B[33mutf-8\u001B[39m\u001B[33m\"\u001B[39m),\n\u001B[32m   1698\u001B[39m       num_outputs=num_outputs,\n\u001B[32m   (...)\u001B[39m\u001B[32m   1702\u001B[39m       cancellation_manager=cancellation_context,\n\u001B[32m   1703\u001B[39m   )\n",
      "\u001B[36mFile \u001B[39m\u001B[32m~\\PycharmProjects\\PsychoAI\\.venv\\Lib\\site-packages\\tensorflow\\python\\eager\\execute.py:53\u001B[39m, in \u001B[36mquick_execute\u001B[39m\u001B[34m(op_name, num_outputs, inputs, attrs, ctx, name)\u001B[39m\n\u001B[32m     51\u001B[39m \u001B[38;5;28;01mtry\u001B[39;00m:\n\u001B[32m     52\u001B[39m   ctx.ensure_initialized()\n\u001B[32m---> \u001B[39m\u001B[32m53\u001B[39m   tensors = \u001B[43mpywrap_tfe\u001B[49m\u001B[43m.\u001B[49m\u001B[43mTFE_Py_Execute\u001B[49m\u001B[43m(\u001B[49m\u001B[43mctx\u001B[49m\u001B[43m.\u001B[49m\u001B[43m_handle\u001B[49m\u001B[43m,\u001B[49m\u001B[43m \u001B[49m\u001B[43mdevice_name\u001B[49m\u001B[43m,\u001B[49m\u001B[43m \u001B[49m\u001B[43mop_name\u001B[49m\u001B[43m,\u001B[49m\n\u001B[32m     54\u001B[39m \u001B[43m                                      \u001B[49m\u001B[43minputs\u001B[49m\u001B[43m,\u001B[49m\u001B[43m \u001B[49m\u001B[43mattrs\u001B[49m\u001B[43m,\u001B[49m\u001B[43m \u001B[49m\u001B[43mnum_outputs\u001B[49m\u001B[43m)\u001B[49m\n\u001B[32m     55\u001B[39m \u001B[38;5;28;01mexcept\u001B[39;00m core._NotOkStatusException \u001B[38;5;28;01mas\u001B[39;00m e:\n\u001B[32m     56\u001B[39m   \u001B[38;5;28;01mif\u001B[39;00m name \u001B[38;5;129;01mis\u001B[39;00m \u001B[38;5;129;01mnot\u001B[39;00m \u001B[38;5;28;01mNone\u001B[39;00m:\n",
      "\u001B[31mKeyboardInterrupt\u001B[39m: "
     ]
    }
   ],
   "execution_count": 133
  },
  {
   "metadata": {
    "ExecuteTime": {
     "end_time": "2025-03-22T20:17:56.282986900Z",
     "start_time": "2025-03-22T18:34:19.448474Z"
    }
   },
   "cell_type": "code",
   "source": [
    "# Use the same predictions for classification report\n",
    "y_pred_classes = np.argmax(y_pred, axis=1)  # Reuse y_pred\n",
    "\n",
    "# Get true labels\n",
    "y_true_classes = test_data.classes  # Extract true labels\n",
    "class_labels = list(test_data.class_indices.keys())  # Get class names\n",
    "\n",
    "# Generate Classification Report\n",
    "report = classification_report(y_true_classes, y_pred_classes, target_names=class_labels)\n",
    "print(report)"
   ],
   "id": "9a093d8827c121eb",
   "outputs": [
    {
     "name": "stdout",
     "output_type": "stream",
     "text": [
      "              precision    recall  f1-score   support\n",
      "\n",
      "       angry       0.44      0.62      0.52       500\n",
      "     disgust       0.94      0.64      0.76       500\n",
      "        fear       0.48      0.43      0.45       500\n",
      "       happy       0.79      0.84      0.81       500\n",
      "     neutral       0.56      0.62      0.58       500\n",
      "         sad       0.50      0.44      0.47       500\n",
      "    surprise       0.77      0.75      0.76       500\n",
      "\n",
      "    accuracy                           0.62      3500\n",
      "   macro avg       0.64      0.62      0.62      3500\n",
      "weighted avg       0.64      0.62      0.62      3500\n",
      "\n"
     ]
    }
   ],
   "execution_count": 86
  }
 ],
 "metadata": {
  "kernelspec": {
   "display_name": "Python 3",
   "language": "python",
   "name": "python3"
  },
  "language_info": {
   "codemirror_mode": {
    "name": "ipython",
    "version": 2
   },
   "file_extension": ".py",
   "mimetype": "text/x-python",
   "name": "python",
   "nbconvert_exporter": "python",
   "pygments_lexer": "ipython2",
   "version": "2.7.6"
  }
 },
 "nbformat": 4,
 "nbformat_minor": 5
}
