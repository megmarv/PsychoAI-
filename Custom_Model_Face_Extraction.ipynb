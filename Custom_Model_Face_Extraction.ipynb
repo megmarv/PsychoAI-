{
  "nbformat": 4,
  "nbformat_minor": 0,
  "metadata": {
    "colab": {
      "provenance": []
    },
    "kernelspec": {
      "name": "python3",
      "display_name": "Python 3"
    },
    "language_info": {
      "name": "python"
    }
  },
  "cells": [
    {
      "cell_type": "code",
      "execution_count": null,
      "metadata": {
        "id": "WiL0tboIzCb5"
      },
      "outputs": [],
      "source": [
        "import cv2\n",
        "import dlib\n",
        "import os\n",
        "import numpy as np\n",
        "from tensorflow.keras.models import Sequential\n",
        "from tensorflow.keras.layers import Conv2D, MaxPooling2D, Flatten, Dense\n",
        "from tensorflow.keras.preprocessing.image import ImageDataGenerator\n",
        "from tensorflow.keras.optimizers import Adam"
      ]
    },
    {
      "cell_type": "code",
      "source": [
        "# Create output directory if not exists\n",
        "output_folder = \"extracted_faces\"\n",
        "os.makedirs(output_folder, exist_ok=True)"
      ],
      "metadata": {
        "id": "4T-mnp_yzPPj"
      },
      "execution_count": null,
      "outputs": []
    },
    {
      "cell_type": "code",
      "source": [
        "# Load image\n",
        "def detect_and_save_faces(image_path):\n",
        "    detector = dlib.get_frontal_face_detector()\n",
        "    img = cv2.imread(image_path)\n",
        "    gray = cv2.cvtColor(img, cv2.COLOR_BGR2GRAY)\n",
        "    faces = detector(gray)\n",
        "\n",
        "    face_images = []\n",
        "    for i, face in enumerate(faces):\n",
        "        x, y, w, h = face.left(), face.top(), face.width(), face.height()\n",
        "        face_img = gray[y:y+h, x:x+w]\n",
        "        face_resized = cv2.resize(face_img, (100, 100))\n",
        "        face_path = os.path.join(output_folder, f\"face_{i}.jpg\")\n",
        "        cv2.imwrite(face_path, face_resized)\n",
        "        face_images.append(face_resized)\n",
        "\n",
        "    return face_images"
      ],
      "metadata": {
        "id": "-K-OC8HdzUWk"
      },
      "execution_count": null,
      "outputs": []
    },
    {
      "cell_type": "code",
      "source": [
        "# Train a simple CNN on extracted faces\n",
        "def build_face_recognition_model():\n",
        "    model = Sequential([\n",
        "        Conv2D(32, (3,3), activation='relu', input_shape=(100, 100, 1)),\n",
        "        MaxPooling2D(2,2),\n",
        "        Conv2D(64, (3,3), activation='relu'),\n",
        "        MaxPooling2D(2,2),\n",
        "        Flatten(),\n",
        "        Dense(128, activation='relu'),\n",
        "        Dense(2, activation='softmax')  # Assuming two classes for demo\n",
        "    ])\n",
        "    model.compile(optimizer=Adam(), loss='sparse_categorical_crossentropy', metrics=['accuracy'])\n",
        "    return model\n"
      ],
      "metadata": {
        "id": "tGzPT2D4zcyL"
      },
      "execution_count": null,
      "outputs": []
    },
    {
      "cell_type": "code",
      "source": [
        "# Prepare dataset for training\n",
        "def prepare_data():\n",
        "    datagen = ImageDataGenerator(rescale=1./255, validation_split=0.2)\n",
        "    train_data = datagen.flow_from_directory(output_folder, target_size=(100, 100), color_mode='grayscale', batch_size=10, class_mode='sparse', subset='training')\n",
        "    val_data = datagen.flow_from_directory(output_folder, target_size=(100, 100), color_mode='grayscale', batch_size=10, class_mode='sparse', subset='validation')\n",
        "    return train_data, val_data\n",
        "\n",
        "if __name__ == \"__main__\":\n",
        "    # Change this to your actual group photos directory\n",
        "    group_photos_dir = \"/content/drive/MyDrive/Group Photos\"\n",
        "\n",
        "    # Loop through all files in the directory\n",
        "    for filename in os.listdir(group_photos_dir):\n",
        "        if filename.endswith(('.jpg', '.png', '.jpeg')):  # Check if it's an image file\n",
        "            image_path = os.path.join(group_photos_dir, filename)\n",
        "            detect_and_save_faces(image_path)\n",
        "\n",
        "    model = build_face_recognition_model()\n",
        "    train_data, val_data = prepare_data()\n",
        "\n",
        "    model.fit(train_data, validation_data=val_data, epochs=10)\n",
        "    model.save(\"face_recognition_model.h5\")\n",
        "    print(\"Model trained and saved successfully.\")"
      ],
      "metadata": {
        "id": "BzTbP6SMzfqR"
      },
      "execution_count": null,
      "outputs": []
    }
  ]
}