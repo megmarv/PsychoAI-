{
 "cells": [
  {
   "cell_type": "code",
   "execution_count": null,
   "id": "initial_id",
   "metadata": {
    "collapsed": true
   },
   "outputs": [],
   "source": [
    "import os\n",
    "import hashlib\n",
    "\n",
    "# Define dataset path (change this to your dataset directory)\n",
    "dataset_path = \"Refined_Hybrid_Dataset\"\n",
    "\n",
    "# Function to compute SHA-256 hash of an image file\n",
    "def compute_sha256(file_path):\n",
    "    sha256_hash = hashlib.sha256()\n",
    "    with open(file_path, \"rb\") as f:\n",
    "        # Read file in chunks to avoid memory issues\n",
    "        for byte_block in iter(lambda: f.read(4096), b\"\"):\n",
    "            sha256_hash.update(byte_block)\n",
    "    return sha256_hash.hexdigest()\n",
    "\n",
    "# Function to remove exact duplicate images\n",
    "def remove_duplicate_images(dataset_path):\n",
    "    hash_set = set()\n",
    "    deleted_count = 0\n",
    "\n",
    "    # Traverse dataset directory (including train & test folders)\n",
    "    for root, _, files in os.walk(dataset_path):\n",
    "        for file_name in files:\n",
    "            file_path = os.path.join(root, file_name)\n",
    "\n",
    "            # Compute SHA-256 hash of the image\n",
    "            file_hash = compute_sha256(file_path)\n",
    "\n",
    "            if file_hash in hash_set:\n",
    "                # Duplicate found, delete it\n",
    "                os.remove(file_path)\n",
    "                deleted_count += 1\n",
    "                print(f\"❌ Deleted duplicate: {file_path}\")\n",
    "            else:\n",
    "                # Store the hash in the set\n",
    "                hash_set.add(file_hash)\n",
    "\n",
    "    print(f\"\\n✅ Duplicate removal complete! {deleted_count} images deleted.\")\n",
    "\n",
    "# Run the function\n",
    "remove_duplicate_images(dataset_path)"
   ]
  }
 ],
 "metadata": {
  "kernelspec": {
   "display_name": "Python 3",
   "language": "python",
   "name": "python3"
  },
  "language_info": {
   "codemirror_mode": {
    "name": "ipython",
    "version": 2
   },
   "file_extension": ".py",
   "mimetype": "text/x-python",
   "name": "python",
   "nbconvert_exporter": "python",
   "pygments_lexer": "ipython2",
   "version": "2.7.6"
  }
 },
 "nbformat": 4,
 "nbformat_minor": 5
}
