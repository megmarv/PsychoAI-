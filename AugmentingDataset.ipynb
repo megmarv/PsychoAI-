{
 "cells": [
  {
   "cell_type": "code",
   "id": "initial_id",
   "metadata": {
    "collapsed": true,
    "ExecuteTime": {
     "end_time": "2025-03-19T08:19:05.170840Z",
     "start_time": "2025-03-19T08:17:06.415901Z"
    }
   },
   "source": [
    "import os\n",
    "import shutil\n",
    "\n",
    "# Paths\n",
    "ORIGINAL_DATASET_DIR = 'Refined_Hybrid_Dataset/train'\n",
    "STARGAN_DATASET_DIR = 'StarGAN_dataset'\n",
    "\n",
    "# Create StarGAN dataset directory\n",
    "if os.path.exists(STARGAN_DATASET_DIR):\n",
    "    shutil.rmtree(STARGAN_DATASET_DIR)  # Clear old data\n",
    "os.makedirs(STARGAN_DATASET_DIR, exist_ok=True)\n",
    "\n",
    "# Only include underperforming classes\n",
    "classes_to_augment = {\"angry\", \"fear\", \"neutral\", \"sad\"}\n",
    "\n",
    "for class_name in os.listdir(ORIGINAL_DATASET_DIR):\n",
    "    if class_name in classes_to_augment:\n",
    "        class_path = os.path.join(ORIGINAL_DATASET_DIR, class_name)\n",
    "        for img_file in os.listdir(class_path):\n",
    "            shutil.copy(os.path.join(class_path, img_file), STARGAN_DATASET_DIR)\n",
    "\n",
    "print(\"✅ StarGAN dataset prepared!\")"
   ],
   "outputs": [
    {
     "name": "stdout",
     "output_type": "stream",
     "text": [
      "✅ StarGAN dataset prepared!\n"
     ]
    }
   ],
   "execution_count": 1
  },
  {
   "metadata": {},
   "cell_type": "code",
   "outputs": [],
   "execution_count": null,
   "source": [
    "# Paths\n",
    "STARGAN_OUTPUT_DIR = 'generated_images'\n",
    "AUGMENTED_DATASET_DIR = 'Augmented_Refined_Hybrid_Dataset/train'\n",
    "\n",
    "# Create augmented dataset directory\n",
    "if os.path.exists(AUGMENTED_DATASET_DIR):\n",
    "    shutil.rmtree(AUGMENTED_DATASET_DIR)\n",
    "os.makedirs(AUGMENTED_DATASET_DIR, exist_ok=True)\n",
    "\n",
    "# Move original images + synthetic images\n",
    "for class_name in os.listdir(ORIGINAL_DATASET_DIR):\n",
    "    class_path = os.path.join(ORIGINAL_DATASET_DIR, class_name)\n",
    "    aug_class_path = os.path.join(AUGMENTED_DATASET_DIR, class_name)\n",
    "    os.makedirs(aug_class_path, exist_ok=True)\n",
    "\n",
    "    # Copy original images\n",
    "    for img_file in os.listdir(class_path):\n",
    "        shutil.copy(os.path.join(class_path, img_file), aug_class_path)\n",
    "\n",
    "    # Copy synthetic images (only for underperforming classes)\n",
    "    if class_name in classes_to_augment:\n",
    "        for img_file in os.listdir(STARGAN_OUTPUT_DIR):\n",
    "            if class_name in img_file:  # Ensure the correct class images\n",
    "                shutil.copy(os.path.join(STARGAN_OUTPUT_DIR, img_file), aug_class_path)\n",
    "\n",
    "print(\"✅ Augmented dataset is ready with StarGAN images!\")"
   ],
   "id": "7e3df2e3a458769d"
  }
 ],
 "metadata": {
  "kernelspec": {
   "display_name": "Python 3",
   "language": "python",
   "name": "python3"
  },
  "language_info": {
   "codemirror_mode": {
    "name": "ipython",
    "version": 2
   },
   "file_extension": ".py",
   "mimetype": "text/x-python",
   "name": "python",
   "nbconvert_exporter": "python",
   "pygments_lexer": "ipython2",
   "version": "2.7.6"
  }
 },
 "nbformat": 4,
 "nbformat_minor": 5
}
