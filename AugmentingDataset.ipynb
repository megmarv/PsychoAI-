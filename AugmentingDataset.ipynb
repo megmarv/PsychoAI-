{
 "cells": [
  {
   "cell_type": "code",
   "id": "initial_id",
   "metadata": {
    "collapsed": true,
    "ExecuteTime": {
     "end_time": "2025-03-18T02:29:39.026894Z",
     "start_time": "2025-03-18T02:25:07.915169Z"
    }
   },
   "source": [
    "import os\n",
    "import numpy as np\n",
    "import shutil\n",
    "from tensorflow.keras.preprocessing.image import ImageDataGenerator, load_img, img_to_array, array_to_img\n",
    "\n",
    "# Define paths\n",
    "ORIGINAL_DATASET_DIR = 'Refined_Hybrid_Dataset SHA-256/train'\n",
    "AUGMENTED_DATASET_DIR = 'Augmented_Refined_Hybrid_Dataset/train'\n",
    "\n",
    "# Target count for all classes\n",
    "TARGET_COUNT = 5599\n",
    "\n",
    "# Augmentation settings\n",
    "augmentor = ImageDataGenerator(\n",
    "    rotation_range=20,\n",
    "    width_shift_range=0.1,\n",
    "    height_shift_range=0.1,\n",
    "    zoom_range=0.15,\n",
    "    horizontal_flip=True,\n",
    "    fill_mode=\"nearest\"\n",
    ")\n",
    "\n",
    "# Create new dataset directory\n",
    "if os.path.exists(AUGMENTED_DATASET_DIR):\n",
    "    shutil.rmtree(AUGMENTED_DATASET_DIR)  # Clear old data\n",
    "os.makedirs(AUGMENTED_DATASET_DIR, exist_ok=True)\n",
    "\n",
    "# Loop through each class\n",
    "for class_name in os.listdir(ORIGINAL_DATASET_DIR):\n",
    "    original_class_path = os.path.join(ORIGINAL_DATASET_DIR, class_name)\n",
    "    augmented_class_path = os.path.join(AUGMENTED_DATASET_DIR, class_name)\n",
    "\n",
    "    os.makedirs(augmented_class_path, exist_ok=True)\n",
    "\n",
    "    image_filenames = os.listdir(original_class_path)\n",
    "    num_original_images = len(image_filenames)\n",
    "\n",
    "    # Skip augmentation for \"happy\"\n",
    "    if class_name == \"happy\":\n",
    "        for img_file in image_filenames:\n",
    "            shutil.copy(os.path.join(original_class_path, img_file), augmented_class_path)\n",
    "        print(f\"✅ Skipped augmentation for {class_name} (already at {TARGET_COUNT})\")\n",
    "        continue\n",
    "\n",
    "    # Calculate number of images needed\n",
    "    num_needed = TARGET_COUNT - num_original_images\n",
    "    print(f\"🔹 {class_name}: {num_original_images} images, need {num_needed} more\")\n",
    "\n",
    "    # Copy original images first\n",
    "    for img_file in image_filenames:\n",
    "        shutil.copy(os.path.join(original_class_path, img_file), augmented_class_path)\n",
    "\n",
    "    # Augment images to reach the target count\n",
    "    i = 0\n",
    "    while num_needed > 0:\n",
    "        img_file = image_filenames[i % num_original_images]  # Loop over original images\n",
    "        img_path = os.path.join(original_class_path, img_file)\n",
    "\n",
    "        img = load_img(img_path, color_mode=\"grayscale\", target_size=(48, 48))\n",
    "        img_array = img_to_array(img)\n",
    "        img_array = np.expand_dims(img_array, axis=0)\n",
    "\n",
    "        aug_iter = augmentor.flow(img_array, batch_size=1)\n",
    "        aug_img = next(aug_iter)[0].astype(np.uint8)\n",
    "        aug_img = array_to_img(aug_img)\n",
    "\n",
    "        aug_img.save(os.path.join(augmented_class_path, f\"aug_{i}_{img_file}\"))\n",
    "        num_needed -= 1\n",
    "        i += 1\n",
    "\n",
    "print(\"✅ Augmentation completed! All classes now have 5599 images.\")\n"
   ],
   "outputs": [
    {
     "name": "stdout",
     "output_type": "stream",
     "text": [
      "🔹 angry: 2970 images, need 2629 more\n",
      "🔹 disgust: 4539 images, need 1060 more\n",
      "🔹 fear: 3015 images, need 2584 more\n",
      "✅ Skipped augmentation for happy (already at 5599)\n",
      "🔹 neutral: 3931 images, need 1668 more\n",
      "🔹 sad: 3702 images, need 1897 more\n",
      "🔹 surprise: 3082 images, need 2517 more\n",
      "✅ Augmentation completed! All classes now have 5599 images.\n"
     ]
    }
   ],
   "execution_count": 1
  }
 ],
 "metadata": {
  "kernelspec": {
   "display_name": "Python 3",
   "language": "python",
   "name": "python3"
  },
  "language_info": {
   "codemirror_mode": {
    "name": "ipython",
    "version": 2
   },
   "file_extension": ".py",
   "mimetype": "text/x-python",
   "name": "python",
   "nbconvert_exporter": "python",
   "pygments_lexer": "ipython2",
   "version": "2.7.6"
  }
 },
 "nbformat": 4,
 "nbformat_minor": 5
}
