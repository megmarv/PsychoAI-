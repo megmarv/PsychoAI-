{
  "nbformat": 4,
  "nbformat_minor": 0,
  "metadata": {
    "colab": {
      "provenance": [],
      "authorship_tag": "ABX9TyOaNdIEj4AJ6xMdmwTrrlDk",
      "include_colab_link": true
    },
    "kernelspec": {
      "name": "python3",
      "display_name": "Python 3"
    },
    "language_info": {
      "name": "python"
    }
  },
  "cells": [
    {
      "cell_type": "markdown",
      "metadata": {
        "id": "view-in-github",
        "colab_type": "text"
      },
      "source": [
        "<a href=\"https://colab.research.google.com/github/megmarv/PsychoAI-/blob/Emotion-Identification4/ViTModel_02.ipynb\" target=\"_parent\"><img src=\"https://colab.research.google.com/assets/colab-badge.svg\" alt=\"Open In Colab\"/></a>"
      ]
    },
    {
      "cell_type": "code",
      "execution_count": null,
      "metadata": {
        "id": "3gkpnMLSpP_1"
      },
      "outputs": [],
      "source": [
        "import numpy as np\n",
        "import pandas as pd\n",
        "import tensorflow as tf\n",
        "from tensorflow import keras\n",
        "from tensorflow.keras import layers, models\n",
        "from tensorflow.keras.preprocessing.image import ImageDataGenerator\n",
        "import zipfile\n",
        "import os\n",
        "import matplotlib.pyplot as plt\n",
        "import seaborn as sns\n",
        "from sklearn.metrics import confusion_matrix, classification_report, accuracy_score"
      ]
    },
    {
      "cell_type": "code",
      "source": [
        "from google.colab import files\n",
        "uploaded = files.upload()"
      ],
      "metadata": {
        "id": "EWAMUM4WpU4L"
      },
      "execution_count": null,
      "outputs": []
    },
    {
      "cell_type": "code",
      "source": [
        "import zipfile\n",
        "import os\n",
        "\n",
        "zip_file = 'FER2013.zip'  # Change filename if necessary\n",
        "extract_path = '/content/FER2013/'\n",
        "with zipfile.ZipFile(zip_file, 'r') as zip_ref:\n",
        "    zip_ref.extractall(extract_path)\n",
        "\n",
        "# Verify the extraction\n",
        "print(os.listdir(extract_path))"
      ],
      "metadata": {
        "id": "SBkwFjbupjYJ"
      },
      "execution_count": null,
      "outputs": []
    },
    {
      "cell_type": "code",
      "source": [
        "# List contents of train and test folders\n",
        "print(os.listdir(extract_path + 'train'))\n",
        "print(os.listdir(extract_path + 'test'))"
      ],
      "metadata": {
        "id": "W155zWMipmS0"
      },
      "execution_count": null,
      "outputs": []
    },
    {
      "cell_type": "code",
      "source": [
        "#Augmentation\n",
        "train_datagen = ImageDataGenerator(\n",
        "    rescale=1.0/255.0,\n",
        "    validation_split=0.2,\n",
        "    rotation_range=20,\n",
        "    width_shift_range=0.2,\n",
        "    height_shift_range=0.2,\n",
        "    shear_range=0.2,\n",
        "    zoom_range=0.2,\n",
        "    horizontal_flip=True\n",
        ")\n",
        "\n",
        "test_datagen = ImageDataGenerator(rescale=1.0/255.0)"
      ],
      "metadata": {
        "id": "TBMPY-c_po0n"
      },
      "execution_count": null,
      "outputs": []
    },
    {
      "cell_type": "code",
      "source": [
        "# Load Training Data\n",
        "train_generator = train_datagen.flow_from_directory(\n",
        "    os.path.join(extract_path, 'train'),\n",
        "    target_size=(48, 48),\n",
        "    batch_size=64,\n",
        "    class_mode='categorical',\n",
        "    subset='training'\n",
        ")"
      ],
      "metadata": {
        "id": "ojekOPn5qIXv"
      },
      "execution_count": null,
      "outputs": []
    },
    {
      "cell_type": "code",
      "source": [
        "# Load Validation Data\n",
        "validation_generator = train_datagen.flow_from_directory(\n",
        "    os.path.join(extract_path, 'train'),\n",
        "    target_size=(48, 48),\n",
        "    batch_size=64,\n",
        "    class_mode='categorical',\n",
        "    subset='validation'\n",
        ")"
      ],
      "metadata": {
        "id": "IcnTdpvVqNav"
      },
      "execution_count": null,
      "outputs": []
    },
    {
      "cell_type": "code",
      "source": [
        "# Load Test Data\n",
        "test_generator = test_datagen.flow_from_directory(\n",
        "    os.path.join(extract_path, 'test'),\n",
        "    target_size=(48, 48),\n",
        "    batch_size=64,\n",
        "    class_mode='categorical'\n",
        ")\n"
      ],
      "metadata": {
        "id": "1ZFpgy9iqQXg"
      },
      "execution_count": null,
      "outputs": []
    },
    {
      "cell_type": "code",
      "source": [
        "# Vision Transformer Model\n",
        "\n",
        "def create_vit_model(input_shape=(48, 48, 3), num_classes=7):\n",
        "    inputs = layers.Input(shape=input_shape)\n",
        "\n",
        "    # Patch Extraction\n",
        "    x = layers.Conv2D(64, (3, 3), strides=(2, 2), padding=\"same\")(inputs)\n",
        "    x = layers.BatchNormalization()(x)\n",
        "    x = layers.ReLU()(x)\n",
        "\n",
        "    # Transformer Block 1\n",
        "    transformer_layer = layers.MultiHeadAttention(num_heads=8, key_dim=64)\n",
        "    x = transformer_layer(x, x)\n",
        "    x = layers.LayerNormalization()(x)\n",
        "    x = layers.GlobalAveragePooling2D()(x)\n",
        "\n",
        "    # Transformer Block 2\n",
        "    transformer_layer2 = layers.MultiHeadAttention(num_heads=8, key_dim=64)\n",
        "    x = transformer_layer2(x, x)\n",
        "    x = layers.LayerNormalization()(x)\n",
        "\n",
        "    # Fully Connected Layers\n",
        "    x = layers.Dense(256, activation='relu')(x)\n",
        "    x = layers.Dropout(0.3)(x)\n",
        "    x = layers.Dense(128, activation='relu')(x)\n",
        "    x = layers.Dropout(0.2)(x)\n",
        "\n",
        "    # Output Layer\n",
        "    outputs = layers.Dense(num_classes, activation='softmax')(x)\n",
        "\n",
        "    model = models.Model(inputs=inputs, outputs=outputs)\n",
        "    return model\n",
        "\n",
        "# Create and Compile Model\n",
        "model = create_vit_model()\n",
        "model.compile(optimizer=keras.optimizers.Adam(learning_rate=0.0005),  # Adjusted LR\n",
        "              loss='categorical_crossentropy',\n",
        "              metrics=['accuracy'])\n",
        "\n",
        "# Model Summary\n",
        "model.summary()"
      ],
      "metadata": {
        "id": "NMsDKt4dqUFN"
      },
      "execution_count": null,
      "outputs": []
    },
    {
      "cell_type": "code",
      "source": [
        "# Train the Model\n",
        "history = model.fit(\n",
        "    train_generator,\n",
        "    epochs=20,\n",
        "    validation_data=validation_generator,\n",
        "    verbose=1\n",
        ")"
      ],
      "metadata": {
        "id": "NMN9AQ03qiZM"
      },
      "execution_count": null,
      "outputs": []
    },
    {
      "cell_type": "code",
      "source": [
        "# Evaluate Model\n",
        "test_loss, test_accuracy = model.evaluate(test_generator)\n",
        "print(f\"Test Loss: {test_loss:.4f}, Test Accuracy: {test_accuracy:.4f}\")"
      ],
      "metadata": {
        "id": "-94wBvfVqzjk"
      },
      "execution_count": null,
      "outputs": []
    },
    {
      "cell_type": "code",
      "source": [
        "# Confusion Matrix & Classification Report\n",
        "test_predictions = model.predict(test_generator, verbose=1)\n",
        "test_labels = test_generator.classes\n",
        "predicted_labels = np.argmax(test_predictions, axis=1)\n",
        "\n",
        "cm = confusion_matrix(test_labels, predicted_labels)\n",
        "accuracy = accuracy_score(test_labels, predicted_labels)\n",
        "report = classification_report(test_labels, predicted_labels, target_names=test_generator.class_indices.keys())\n",
        "\n",
        "# Plot Confusion Matrix\n",
        "plt.figure(figsize=(8, 6))\n",
        "sns.heatmap(cm, annot=True, fmt='g', cmap='Blues', xticklabels=test_generator.class_indices.keys(), yticklabels=test_generator.class_indices.keys())\n",
        "plt.title(\"Confusion Matrix\")\n",
        "plt.xlabel('Predicted Labels')\n",
        "plt.ylabel('True Labels')\n",
        "plt.show()\n",
        "\n",
        "# Display Evaluation Results\n",
        "print(\"\\n--- Evaluation Summary ---\")\n",
        "print(f\"Test Accuracy: {accuracy:.4f}\")\n",
        "print(\"\\n--- Classification Report ---\\n\", report)"
      ],
      "metadata": {
        "id": "Qzsjea2mrAs6"
      },
      "execution_count": null,
      "outputs": []
    }
  ]
}