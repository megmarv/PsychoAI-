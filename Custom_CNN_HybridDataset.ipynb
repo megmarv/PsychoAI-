{
 "nbformat": 4,
 "nbformat_minor": 0,
 "metadata": {
  "colab": {
   "provenance": [],
   "gpuType": "T4",
   "mount_file_id": "1vthxjO9ipqpZqRTFK_J0fZxHIJXebTyR",
   "authorship_tag": "ABX9TyOOnpnkviZbeJj01lN5hdx8",
   "include_colab_link": true
  },
  "kernelspec": {
   "name": "python3",
   "display_name": "Python 3 (ipykernel)",
   "language": "python"
  },
  "language_info": {
   "name": "python"
  },
  "accelerator": "GPU"
 },
 "cells": [
  {
   "cell_type": "markdown",
   "metadata": {
    "id": "view-in-github",
    "colab_type": "text"
   },
   "source": [
    "<a href=\"https://colab.research.google.com/github/megmarv/PsychoAI-/blob/Emotion-Identification3/Custom_CNN_HybridDataset.ipynb\" target=\"_parent\"><img src=\"https://colab.research.google.com/assets/colab-badge.svg\" alt=\"Open In Colab\"/></a>"
   ]
  },
  {
   "cell_type": "markdown",
   "source": [
    "# Imports"
   ],
   "metadata": {
    "id": "B12xA3LpK0Jn"
   }
  },
  {
   "cell_type": "code",
   "metadata": {
    "id": "EssNGjaGKojY",
    "ExecuteTime": {
     "end_time": "2025-03-19T17:37:23.927199Z",
     "start_time": "2025-03-19T17:37:23.922153Z"
    }
   },
   "source": [
    "import matplotlib.pyplot as plt\n",
    "import tensorflow as tf\n",
    "import os\n",
    "import pandas as pd\n",
    "from tensorflow.keras.models import Sequential\n",
    "from tensorflow.keras.models import Model\n",
    "from tensorflow.keras.layers import Conv2D, BatchNormalization, MaxPooling2D, Dropout, Flatten, Dense, Input, Add\n",
    "from tensorflow.keras.callbacks import EarlyStopping, ReduceLROnPlateau, ModelCheckpoint\n",
    "from sklearn.utils.class_weight import compute_class_weight\n",
    "\n",
    "from tensorflow.keras.preprocessing.image import ImageDataGenerator\n",
    "from tensorflow.keras.callbacks import ReduceLROnPlateau, EarlyStopping\n",
    "from sklearn.metrics import confusion_matrix\n",
    "import seaborn as sns\n",
    "import numpy as np\n",
    "from sklearn.utils.class_weight import compute_class_weight"
   ],
   "outputs": [],
   "execution_count": 34
  },
  {
   "cell_type": "code",
   "source": [
    "# Define dataset directory\n",
    "DATASET_DIRECTORY = 'Augmented_Refined_Hybrid_Dataset2'\n",
    "\n",
    "# Image size & batch size\n",
    "image_size = (48, 48)\n",
    "BATCH_SIZE = 64\n",
    "VALIDATION_SPLIT = 0.2  # 20% of training data for validation\n",
    "\n",
    "# Define ImageDataGenerators\n",
    "train_datagen = ImageDataGenerator(\n",
    "    rescale=1./255,\n",
    "    validation_split=VALIDATION_SPLIT  # Splitting training data\n",
    ")\n",
    "\n",
    "test_datagen = ImageDataGenerator(rescale=1./255)\n",
    "\n",
    "# Load Training Data (80%)\n",
    "train_data = train_datagen.flow_from_directory(\n",
    "    os.path.join(DATASET_DIRECTORY, \"train\"),\n",
    "    target_size=image_size,\n",
    "    batch_size=BATCH_SIZE,\n",
    "    color_mode=\"grayscale\",\n",
    "    class_mode=\"categorical\",\n",
    "    subset=\"training\"  # 80% for training\n",
    ")\n",
    "\n",
    "# Load Validation Data (20%)\n",
    "val_data = train_datagen.flow_from_directory(\n",
    "    os.path.join(DATASET_DIRECTORY, \"train\"),\n",
    "    target_size=image_size,\n",
    "    batch_size=BATCH_SIZE,\n",
    "    color_mode=\"grayscale\",\n",
    "    class_mode=\"categorical\",\n",
    "    subset=\"validation\"  # 20% for validation\n",
    ")\n",
    "\n",
    "# Load Test Data (Untouched)\n",
    "test_data = test_datagen.flow_from_directory(\n",
    "    os.path.join(DATASET_DIRECTORY, \"test\"),\n",
    "    target_size=image_size,\n",
    "    batch_size=BATCH_SIZE,\n",
    "    color_mode=\"grayscale\",\n",
    "    class_mode=\"categorical\",\n",
    "    shuffle=False  # Keep order unchanged for evaluation\n",
    ")\n",
    "\n",
    "# Print dataset details\n",
    "print(f\"Training samples: {train_data.samples}, Classes: {train_data.num_classes}\")\n",
    "print(f\"Validation samples: {val_data.samples}\")\n",
    "print(f\"Test samples: {test_data.samples}\")"
   ],
   "metadata": {
    "id": "vxOykJMNK7vn",
    "colab": {
     "base_uri": "https://localhost:8080/",
     "height": 391
    },
    "outputId": "d9126b37-2a1c-4e22-ce5b-eaef198524e8",
    "ExecuteTime": {
     "end_time": "2025-03-19T17:37:24.846520Z",
     "start_time": "2025-03-19T17:37:23.938394Z"
    }
   },
   "outputs": [
    {
     "name": "stdout",
     "output_type": "stream",
     "text": [
      "Found 31360 images belonging to 7 classes.\n",
      "Found 7833 images belonging to 7 classes.\n",
      "Found 4557 images belonging to 7 classes.\n",
      "Training samples: 31360, Classes: 7\n",
      "Validation samples: 7833\n",
      "Test samples: 4557\n"
     ]
    }
   ],
   "execution_count": 35
  },
  {
   "cell_type": "code",
   "source": [
    "def count_images_in_file(directory):\n",
    "    counts = {}\n",
    "    for subdir in os.listdir(directory):\n",
    "        subdir_path = os.path.join(directory, subdir)\n",
    "        if os.path.isdir(subdir_path):\n",
    "            counts[subdir] = sum(1 for file in os.listdir(subdir_path) if os.path.isfile(os.path.join(subdir_path, file)))\n",
    "\n",
    "    df = pd.DataFrame(counts, index=['Counts'])\n",
    "    return df\n",
    "\n",
    "train_count = count_images_in_file('Augmented_Refined_Hybrid_Dataset2/train')\n",
    "test_count = count_images_in_file('Augmented_Refined_Hybrid_Dataset2/test')\n",
    "\n",
    "print(train_count)\n",
    "print(test_count)"
   ],
   "metadata": {
    "id": "IxJUM2vMK--n",
    "colab": {
     "base_uri": "https://localhost:8080/"
    },
    "outputId": "bbaf7cb7-21eb-42b7-f470-dd7c24b885ad",
    "ExecuteTime": {
     "end_time": "2025-03-19T17:37:25.310911Z",
     "start_time": "2025-03-19T17:37:24.859988Z"
    }
   },
   "outputs": [
    {
     "name": "stdout",
     "output_type": "stream",
     "text": [
      "        angry  disgust  fear  happy  neutral   sad  surprise\n",
      "Counts   5599     5599  5599   5599     5599  5599      5599\n",
      "        angry  disgust  fear  happy  neutral  sad  surprise\n",
      "Counts    651      651   651    651      651  651       651\n"
     ]
    }
   ],
   "execution_count": 36
  },
  {
   "cell_type": "code",
   "source": [
    "train_count.transpose().plot(kind='bar')"
   ],
   "metadata": {
    "id": "Nrcivbv3LCIr",
    "colab": {
     "base_uri": "https://localhost:8080/",
     "height": 489
    },
    "outputId": "e9cf5c99-08fb-4de8-9fe8-6a9f0befaf1a",
    "ExecuteTime": {
     "end_time": "2025-03-19T17:37:25.422543Z",
     "start_time": "2025-03-19T17:37:25.321080Z"
    }
   },
   "outputs": [
    {
     "data": {
      "text/plain": [
       "<Axes: >"
      ]
     },
     "execution_count": 37,
     "metadata": {},
     "output_type": "execute_result"
    },
    {
     "data": {
      "text/plain": [
       "<Figure size 640x480 with 1 Axes>"
      ],
      "image/png": "[encoded data removed]"
     },
     "metadata": {},
     "output_type": "display_data"
    }
   ],
   "execution_count": 37
  },
  {
   "cell_type": "code",
   "source": [
    "test_count.transpose().plot(kind='bar')"
   ],
   "metadata": {
    "id": "MVQvj8oFLEQk",
    "colab": {
     "base_uri": "https://localhost:8080/",
     "height": 490
    },
    "outputId": "63f18d11-52f8-4675-c64a-2603ca2e2e57",
    "ExecuteTime": {
     "end_time": "2025-03-19T17:37:26.054683Z",
     "start_time": "2025-03-19T17:37:25.437986Z"
    }
   },
   "outputs": [
    {
     "data": {
      "text/plain": [
       "<Axes: >"
      ]
     },
     "execution_count": 38,
     "metadata": {},
     "output_type": "execute_result"
    },
    {
     "data": {
      "text/plain": [
       "<Figure size 640x480 with 1 Axes>"
      ],
      "image/png": "[encoded data removed]"
     },
     "metadata": {},
     "output_type": "display_data"
    }
   ],
   "execution_count": 38
  },
  {
   "cell_type": "code",
   "source": [
    "# Define the model with residual connections\n",
    "inputs = Input(shape=(48, 48, 1))\n",
    "\n",
    "# First Conv block with larger kernel\n",
    "x = Conv2D(64, (5, 5), activation='relu', padding='same')(inputs)\n",
    "x = BatchNormalization()(x)\n",
    "residual = x  # Save for skip connection\n",
    "x = MaxPooling2D(2, 2)(x)  # 48x48 -> 24x24\n",
    "x = Dropout(0.2)(x)\n",
    "\n",
    "# Second Conv block with residual connection\n",
    "x = Conv2D(128, (3, 3), activation='relu', padding='same')(x)\n",
    "x = BatchNormalization()(x)\n",
    "# Adjust residual to match dimensions (if needed, add a 1x1 conv or pooling)\n",
    "residual = Conv2D(128, (1, 1), activation='relu', padding='same')(MaxPooling2D(2, 2)(residual))  # 48x48 -> 24x24\n",
    "x = Add()([x, residual])  # Residual connection\n",
    "x = MaxPooling2D(2, 2)(x)  # 24x24 -> 12x12\n",
    "x = Dropout(0.3)(x)\n",
    "\n",
    "# Third Conv block\n",
    "x = Conv2D(256, (3, 3), activation='relu', padding='same')(x)\n",
    "x = BatchNormalization()(x)\n",
    "x = Dropout(0.4)(x)\n",
    "\n",
    "# Flatten and Dense layers\n",
    "x = Flatten()(x)\n",
    "x = Dense(256, activation='relu', kernel_regularizer=tf.keras.regularizers.l2(0.02))(x)\n",
    "x = BatchNormalization()(x)\n",
    "x = Dropout(0.5)(x)\n",
    "\n",
    "x = Dense(128, activation='relu', kernel_regularizer=tf.keras.regularizers.l2(0.02))(x)\n",
    "x = BatchNormalization()(x)\n",
    "x = Dropout(0.5)(x)\n",
    "\n",
    "outputs = Dense(7, activation='softmax')(x)\n",
    "\n",
    "# Create model\n",
    "model = Model(inputs=inputs, outputs=outputs)\n",
    "\n",
    "model.compile(optimizer=tf.keras.optimizers.Adam(learning_rate=0.001),\n",
    "              loss='categorical_crossentropy',\n",
    "              metrics=['accuracy'])\n",
    "\n",
    "model.summary()"
   ],
   "metadata": {
    "id": "6Lvmy30bLGOQ",
    "colab": {
     "base_uri": "https://localhost:8080/",
     "height": 920
    },
    "outputId": "c9cbe28d-8e07-402e-f831-a0423e731ae3",
    "ExecuteTime": {
     "end_time": "2025-03-19T17:37:26.171245Z",
     "start_time": "2025-03-19T17:37:26.066630Z"
    }
   },
   "outputs": [
    {
     "data": {
      "text/plain": [
       "\u001B[1mModel: \"functional_4\"\u001B[0m\n"
      ],
      "text/html": [
       "<pre style=\"white-space:pre;overflow-x:auto;line-height:normal;font-family:Menlo,'DejaVu Sans Mono',consolas,'Courier New',monospace\"><span style=\"font-weight: bold\">Model: \"functional_4\"</span>\n",
       "</pre>\n"
      ]
     },
     "metadata": {},
     "output_type": "display_data"
    },
    {
     "data": {
      "text/plain": [
       "┏━━━━━━━━━━━━━━━━━━━━━┳━━━━━━━━━━━━━━━━━━━┳━━━━━━━━━━━━┳━━━━━━━━━━━━━━━━━━━┓\n",
       "┃\u001B[1m \u001B[0m\u001B[1mLayer (type)       \u001B[0m\u001B[1m \u001B[0m┃\u001B[1m \u001B[0m\u001B[1mOutput Shape     \u001B[0m\u001B[1m \u001B[0m┃\u001B[1m \u001B[0m\u001B[1m   Param #\u001B[0m\u001B[1m \u001B[0m┃\u001B[1m \u001B[0m\u001B[1mConnected to     \u001B[0m\u001B[1m \u001B[0m┃\n",
       "┡━━━━━━━━━━━━━━━━━━━━━╇━━━━━━━━━━━━━━━━━━━╇━━━━━━━━━━━━╇━━━━━━━━━━━━━━━━━━━┩\n",
       "│ input_layer_4       │ (\u001B[38;5;45mNone\u001B[0m, \u001B[38;5;34m48\u001B[0m, \u001B[38;5;34m48\u001B[0m, \u001B[38;5;34m1\u001B[0m) │          \u001B[38;5;34m0\u001B[0m │ -                 │\n",
       "│ (\u001B[38;5;33mInputLayer\u001B[0m)        │                   │            │                   │\n",
       "├─────────────────────┼───────────────────┼────────────┼───────────────────┤\n",
       "│ conv2d_14 (\u001B[38;5;33mConv2D\u001B[0m)  │ (\u001B[38;5;45mNone\u001B[0m, \u001B[38;5;34m48\u001B[0m, \u001B[38;5;34m48\u001B[0m,    │      \u001B[38;5;34m1,664\u001B[0m │ input_layer_4[\u001B[38;5;34m0\u001B[0m]… │\n",
       "│                     │ \u001B[38;5;34m64\u001B[0m)               │            │                   │\n",
       "├─────────────────────┼───────────────────┼────────────┼───────────────────┤\n",
       "│ batch_normalizatio… │ (\u001B[38;5;45mNone\u001B[0m, \u001B[38;5;34m48\u001B[0m, \u001B[38;5;34m48\u001B[0m,    │        \u001B[38;5;34m256\u001B[0m │ conv2d_14[\u001B[38;5;34m0\u001B[0m][\u001B[38;5;34m0\u001B[0m]   │\n",
       "│ (\u001B[38;5;33mBatchNormalizatio…\u001B[0m │ \u001B[38;5;34m64\u001B[0m)               │            │                   │\n",
       "├─────────────────────┼───────────────────┼────────────┼───────────────────┤\n",
       "│ max_pooling2d_12    │ (\u001B[38;5;45mNone\u001B[0m, \u001B[38;5;34m24\u001B[0m, \u001B[38;5;34m24\u001B[0m,    │          \u001B[38;5;34m0\u001B[0m │ batch_normalizat… │\n",
       "│ (\u001B[38;5;33mMaxPooling2D\u001B[0m)      │ \u001B[38;5;34m64\u001B[0m)               │            │                   │\n",
       "├─────────────────────┼───────────────────┼────────────┼───────────────────┤\n",
       "│ dropout_19          │ (\u001B[38;5;45mNone\u001B[0m, \u001B[38;5;34m24\u001B[0m, \u001B[38;5;34m24\u001B[0m,    │          \u001B[38;5;34m0\u001B[0m │ max_pooling2d_12… │\n",
       "│ (\u001B[38;5;33mDropout\u001B[0m)           │ \u001B[38;5;34m64\u001B[0m)               │            │                   │\n",
       "├─────────────────────┼───────────────────┼────────────┼───────────────────┤\n",
       "│ conv2d_15 (\u001B[38;5;33mConv2D\u001B[0m)  │ (\u001B[38;5;45mNone\u001B[0m, \u001B[38;5;34m24\u001B[0m, \u001B[38;5;34m24\u001B[0m,    │     \u001B[38;5;34m73,856\u001B[0m │ dropout_19[\u001B[38;5;34m0\u001B[0m][\u001B[38;5;34m0\u001B[0m]  │\n",
       "│                     │ \u001B[38;5;34m128\u001B[0m)              │            │                   │\n",
       "├─────────────────────┼───────────────────┼────────────┼───────────────────┤\n",
       "│ max_pooling2d_13    │ (\u001B[38;5;45mNone\u001B[0m, \u001B[38;5;34m24\u001B[0m, \u001B[38;5;34m24\u001B[0m,    │          \u001B[38;5;34m0\u001B[0m │ batch_normalizat… │\n",
       "│ (\u001B[38;5;33mMaxPooling2D\u001B[0m)      │ \u001B[38;5;34m64\u001B[0m)               │            │                   │\n",
       "├─────────────────────┼───────────────────┼────────────┼───────────────────┤\n",
       "│ batch_normalizatio… │ (\u001B[38;5;45mNone\u001B[0m, \u001B[38;5;34m24\u001B[0m, \u001B[38;5;34m24\u001B[0m,    │        \u001B[38;5;34m512\u001B[0m │ conv2d_15[\u001B[38;5;34m0\u001B[0m][\u001B[38;5;34m0\u001B[0m]   │\n",
       "│ (\u001B[38;5;33mBatchNormalizatio…\u001B[0m │ \u001B[38;5;34m128\u001B[0m)              │            │                   │\n",
       "├─────────────────────┼───────────────────┼────────────┼───────────────────┤\n",
       "│ conv2d_16 (\u001B[38;5;33mConv2D\u001B[0m)  │ (\u001B[38;5;45mNone\u001B[0m, \u001B[38;5;34m24\u001B[0m, \u001B[38;5;34m24\u001B[0m,    │      \u001B[38;5;34m8,320\u001B[0m │ max_pooling2d_13… │\n",
       "│                     │ \u001B[38;5;34m128\u001B[0m)              │            │                   │\n",
       "├─────────────────────┼───────────────────┼────────────┼───────────────────┤\n",
       "│ add_2 (\u001B[38;5;33mAdd\u001B[0m)         │ (\u001B[38;5;45mNone\u001B[0m, \u001B[38;5;34m24\u001B[0m, \u001B[38;5;34m24\u001B[0m,    │          \u001B[38;5;34m0\u001B[0m │ batch_normalizat… │\n",
       "│                     │ \u001B[38;5;34m128\u001B[0m)              │            │ conv2d_16[\u001B[38;5;34m0\u001B[0m][\u001B[38;5;34m0\u001B[0m]   │\n",
       "├─────────────────────┼───────────────────┼────────────┼───────────────────┤\n",
       "│ max_pooling2d_14    │ (\u001B[38;5;45mNone\u001B[0m, \u001B[38;5;34m12\u001B[0m, \u001B[38;5;34m12\u001B[0m,    │          \u001B[38;5;34m0\u001B[0m │ add_2[\u001B[38;5;34m0\u001B[0m][\u001B[38;5;34m0\u001B[0m]       │\n",
       "│ (\u001B[38;5;33mMaxPooling2D\u001B[0m)      │ \u001B[38;5;34m128\u001B[0m)              │            │                   │\n",
       "├─────────────────────┼───────────────────┼────────────┼───────────────────┤\n",
       "│ dropout_20          │ (\u001B[38;5;45mNone\u001B[0m, \u001B[38;5;34m12\u001B[0m, \u001B[38;5;34m12\u001B[0m,    │          \u001B[38;5;34m0\u001B[0m │ max_pooling2d_14… │\n",
       "│ (\u001B[38;5;33mDropout\u001B[0m)           │ \u001B[38;5;34m128\u001B[0m)              │            │                   │\n",
       "├─────────────────────┼───────────────────┼────────────┼───────────────────┤\n",
       "│ conv2d_17 (\u001B[38;5;33mConv2D\u001B[0m)  │ (\u001B[38;5;45mNone\u001B[0m, \u001B[38;5;34m12\u001B[0m, \u001B[38;5;34m12\u001B[0m,    │    \u001B[38;5;34m295,168\u001B[0m │ dropout_20[\u001B[38;5;34m0\u001B[0m][\u001B[38;5;34m0\u001B[0m]  │\n",
       "│                     │ \u001B[38;5;34m256\u001B[0m)              │            │                   │\n",
       "├─────────────────────┼───────────────────┼────────────┼───────────────────┤\n",
       "│ batch_normalizatio… │ (\u001B[38;5;45mNone\u001B[0m, \u001B[38;5;34m12\u001B[0m, \u001B[38;5;34m12\u001B[0m,    │      \u001B[38;5;34m1,024\u001B[0m │ conv2d_17[\u001B[38;5;34m0\u001B[0m][\u001B[38;5;34m0\u001B[0m]   │\n",
       "│ (\u001B[38;5;33mBatchNormalizatio…\u001B[0m │ \u001B[38;5;34m256\u001B[0m)              │            │                   │\n",
       "├─────────────────────┼───────────────────┼────────────┼───────────────────┤\n",
       "│ dropout_21          │ (\u001B[38;5;45mNone\u001B[0m, \u001B[38;5;34m12\u001B[0m, \u001B[38;5;34m12\u001B[0m,    │          \u001B[38;5;34m0\u001B[0m │ batch_normalizat… │\n",
       "│ (\u001B[38;5;33mDropout\u001B[0m)           │ \u001B[38;5;34m256\u001B[0m)              │            │                   │\n",
       "├─────────────────────┼───────────────────┼────────────┼───────────────────┤\n",
       "│ flatten_4 (\u001B[38;5;33mFlatten\u001B[0m) │ (\u001B[38;5;45mNone\u001B[0m, \u001B[38;5;34m36864\u001B[0m)     │          \u001B[38;5;34m0\u001B[0m │ dropout_21[\u001B[38;5;34m0\u001B[0m][\u001B[38;5;34m0\u001B[0m]  │\n",
       "├─────────────────────┼───────────────────┼────────────┼───────────────────┤\n",
       "│ dense_11 (\u001B[38;5;33mDense\u001B[0m)    │ (\u001B[38;5;45mNone\u001B[0m, \u001B[38;5;34m256\u001B[0m)       │  \u001B[38;5;34m9,437,440\u001B[0m │ flatten_4[\u001B[38;5;34m0\u001B[0m][\u001B[38;5;34m0\u001B[0m]   │\n",
       "├─────────────────────┼───────────────────┼────────────┼───────────────────┤\n",
       "│ batch_normalizatio… │ (\u001B[38;5;45mNone\u001B[0m, \u001B[38;5;34m256\u001B[0m)       │      \u001B[38;5;34m1,024\u001B[0m │ dense_11[\u001B[38;5;34m0\u001B[0m][\u001B[38;5;34m0\u001B[0m]    │\n",
       "│ (\u001B[38;5;33mBatchNormalizatio…\u001B[0m │                   │            │                   │\n",
       "├─────────────────────┼───────────────────┼────────────┼───────────────────┤\n",
       "│ dropout_22          │ (\u001B[38;5;45mNone\u001B[0m, \u001B[38;5;34m256\u001B[0m)       │          \u001B[38;5;34m0\u001B[0m │ batch_normalizat… │\n",
       "│ (\u001B[38;5;33mDropout\u001B[0m)           │                   │            │                   │\n",
       "├─────────────────────┼───────────────────┼────────────┼───────────────────┤\n",
       "│ dense_12 (\u001B[38;5;33mDense\u001B[0m)    │ (\u001B[38;5;45mNone\u001B[0m, \u001B[38;5;34m128\u001B[0m)       │     \u001B[38;5;34m32,896\u001B[0m │ dropout_22[\u001B[38;5;34m0\u001B[0m][\u001B[38;5;34m0\u001B[0m]  │\n",
       "├─────────────────────┼───────────────────┼────────────┼───────────────────┤\n",
       "│ batch_normalizatio… │ (\u001B[38;5;45mNone\u001B[0m, \u001B[38;5;34m128\u001B[0m)       │        \u001B[38;5;34m512\u001B[0m │ dense_12[\u001B[38;5;34m0\u001B[0m][\u001B[38;5;34m0\u001B[0m]    │\n",
       "│ (\u001B[38;5;33mBatchNormalizatio…\u001B[0m │                   │            │                   │\n",
       "├─────────────────────┼───────────────────┼────────────┼───────────────────┤\n",
       "│ dropout_23          │ (\u001B[38;5;45mNone\u001B[0m, \u001B[38;5;34m128\u001B[0m)       │          \u001B[38;5;34m0\u001B[0m │ batch_normalizat… │\n",
       "│ (\u001B[38;5;33mDropout\u001B[0m)           │                   │            │                   │\n",
       "├─────────────────────┼───────────────────┼────────────┼───────────────────┤\n",
       "│ dense_13 (\u001B[38;5;33mDense\u001B[0m)    │ (\u001B[38;5;45mNone\u001B[0m, \u001B[38;5;34m7\u001B[0m)         │        \u001B[38;5;34m903\u001B[0m │ dropout_23[\u001B[38;5;34m0\u001B[0m][\u001B[38;5;34m0\u001B[0m]  │\n",
       "└─────────────────────┴───────────────────┴────────────┴───────────────────┘\n"
      ],
      "text/html": [
       "<pre style=\"white-space:pre;overflow-x:auto;line-height:normal;font-family:Menlo,'DejaVu Sans Mono',consolas,'Courier New',monospace\">┏━━━━━━━━━━━━━━━━━━━━━┳━━━━━━━━━━━━━━━━━━━┳━━━━━━━━━━━━┳━━━━━━━━━━━━━━━━━━━┓\n",
       "┃<span style=\"font-weight: bold\"> Layer (type)        </span>┃<span style=\"font-weight: bold\"> Output Shape      </span>┃<span style=\"font-weight: bold\">    Param # </span>┃<span style=\"font-weight: bold\"> Connected to      </span>┃\n",
       "┡━━━━━━━━━━━━━━━━━━━━━╇━━━━━━━━━━━━━━━━━━━╇━━━━━━━━━━━━╇━━━━━━━━━━━━━━━━━━━┩\n",
       "│ input_layer_4       │ (<span style=\"color: #00d7ff; text-decoration-color: #00d7ff\">None</span>, <span style=\"color: #00af00; text-decoration-color: #00af00\">48</span>, <span style=\"color: #00af00; text-decoration-color: #00af00\">48</span>, <span style=\"color: #00af00; text-decoration-color: #00af00\">1</span>) │          <span style=\"color: #00af00; text-decoration-color: #00af00\">0</span> │ -                 │\n",
       "│ (<span style=\"color: #0087ff; text-decoration-color: #0087ff\">InputLayer</span>)        │                   │            │                   │\n",
       "├─────────────────────┼───────────────────┼────────────┼───────────────────┤\n",
       "│ conv2d_14 (<span style=\"color: #0087ff; text-decoration-color: #0087ff\">Conv2D</span>)  │ (<span style=\"color: #00d7ff; text-decoration-color: #00d7ff\">None</span>, <span style=\"color: #00af00; text-decoration-color: #00af00\">48</span>, <span style=\"color: #00af00; text-decoration-color: #00af00\">48</span>,    │      <span style=\"color: #00af00; text-decoration-color: #00af00\">1,664</span> │ input_layer_4[<span style=\"color: #00af00; text-decoration-color: #00af00\">0</span>]… │\n",
       "│                     │ <span style=\"color: #00af00; text-decoration-color: #00af00\">64</span>)               │            │                   │\n",
       "├─────────────────────┼───────────────────┼────────────┼───────────────────┤\n",
       "│ batch_normalizatio… │ (<span style=\"color: #00d7ff; text-decoration-color: #00d7ff\">None</span>, <span style=\"color: #00af00; text-decoration-color: #00af00\">48</span>, <span style=\"color: #00af00; text-decoration-color: #00af00\">48</span>,    │        <span style=\"color: #00af00; text-decoration-color: #00af00\">256</span> │ conv2d_14[<span style=\"color: #00af00; text-decoration-color: #00af00\">0</span>][<span style=\"color: #00af00; text-decoration-color: #00af00\">0</span>]   │\n",
       "│ (<span style=\"color: #0087ff; text-decoration-color: #0087ff\">BatchNormalizatio…</span> │ <span style=\"color: #00af00; text-decoration-color: #00af00\">64</span>)               │            │                   │\n",
       "├─────────────────────┼───────────────────┼────────────┼───────────────────┤\n",
       "│ max_pooling2d_12    │ (<span style=\"color: #00d7ff; text-decoration-color: #00d7ff\">None</span>, <span style=\"color: #00af00; text-decoration-color: #00af00\">24</span>, <span style=\"color: #00af00; text-decoration-color: #00af00\">24</span>,    │          <span style=\"color: #00af00; text-decoration-color: #00af00\">0</span> │ batch_normalizat… │\n",
       "│ (<span style=\"color: #0087ff; text-decoration-color: #0087ff\">MaxPooling2D</span>)      │ <span style=\"color: #00af00; text-decoration-color: #00af00\">64</span>)               │            │                   │\n",
       "├─────────────────────┼───────────────────┼────────────┼───────────────────┤\n",
       "│ dropout_19          │ (<span style=\"color: #00d7ff; text-decoration-color: #00d7ff\">None</span>, <span style=\"color: #00af00; text-decoration-color: #00af00\">24</span>, <span style=\"color: #00af00; text-decoration-color: #00af00\">24</span>,    │          <span style=\"color: #00af00; text-decoration-color: #00af00\">0</span> │ max_pooling2d_12… │\n",
       "│ (<span style=\"color: #0087ff; text-decoration-color: #0087ff\">Dropout</span>)           │ <span style=\"color: #00af00; text-decoration-color: #00af00\">64</span>)               │            │                   │\n",
       "├─────────────────────┼───────────────────┼────────────┼───────────────────┤\n",
       "│ conv2d_15 (<span style=\"color: #0087ff; text-decoration-color: #0087ff\">Conv2D</span>)  │ (<span style=\"color: #00d7ff; text-decoration-color: #00d7ff\">None</span>, <span style=\"color: #00af00; text-decoration-color: #00af00\">24</span>, <span style=\"color: #00af00; text-decoration-color: #00af00\">24</span>,    │     <span style=\"color: #00af00; text-decoration-color: #00af00\">73,856</span> │ dropout_19[<span style=\"color: #00af00; text-decoration-color: #00af00\">0</span>][<span style=\"color: #00af00; text-decoration-color: #00af00\">0</span>]  │\n",
       "│                     │ <span style=\"color: #00af00; text-decoration-color: #00af00\">128</span>)              │            │                   │\n",
       "├─────────────────────┼───────────────────┼────────────┼───────────────────┤\n",
       "│ max_pooling2d_13    │ (<span style=\"color: #00d7ff; text-decoration-color: #00d7ff\">None</span>, <span style=\"color: #00af00; text-decoration-color: #00af00\">24</span>, <span style=\"color: #00af00; text-decoration-color: #00af00\">24</span>,    │          <span style=\"color: #00af00; text-decoration-color: #00af00\">0</span> │ batch_normalizat… │\n",
       "│ (<span style=\"color: #0087ff; text-decoration-color: #0087ff\">MaxPooling2D</span>)      │ <span style=\"color: #00af00; text-decoration-color: #00af00\">64</span>)               │            │                   │\n",
       "├─────────────────────┼───────────────────┼────────────┼───────────────────┤\n",
       "│ batch_normalizatio… │ (<span style=\"color: #00d7ff; text-decoration-color: #00d7ff\">None</span>, <span style=\"color: #00af00; text-decoration-color: #00af00\">24</span>, <span style=\"color: #00af00; text-decoration-color: #00af00\">24</span>,    │        <span style=\"color: #00af00; text-decoration-color: #00af00\">512</span> │ conv2d_15[<span style=\"color: #00af00; text-decoration-color: #00af00\">0</span>][<span style=\"color: #00af00; text-decoration-color: #00af00\">0</span>]   │\n",
       "│ (<span style=\"color: #0087ff; text-decoration-color: #0087ff\">BatchNormalizatio…</span> │ <span style=\"color: #00af00; text-decoration-color: #00af00\">128</span>)              │            │                   │\n",
       "├─────────────────────┼───────────────────┼────────────┼───────────────────┤\n",
       "│ conv2d_16 (<span style=\"color: #0087ff; text-decoration-color: #0087ff\">Conv2D</span>)  │ (<span style=\"color: #00d7ff; text-decoration-color: #00d7ff\">None</span>, <span style=\"color: #00af00; text-decoration-color: #00af00\">24</span>, <span style=\"color: #00af00; text-decoration-color: #00af00\">24</span>,    │      <span style=\"color: #00af00; text-decoration-color: #00af00\">8,320</span> │ max_pooling2d_13… │\n",
       "│                     │ <span style=\"color: #00af00; text-decoration-color: #00af00\">128</span>)              │            │                   │\n",
       "├─────────────────────┼───────────────────┼────────────┼───────────────────┤\n",
       "│ add_2 (<span style=\"color: #0087ff; text-decoration-color: #0087ff\">Add</span>)         │ (<span style=\"color: #00d7ff; text-decoration-color: #00d7ff\">None</span>, <span style=\"color: #00af00; text-decoration-color: #00af00\">24</span>, <span style=\"color: #00af00; text-decoration-color: #00af00\">24</span>,    │          <span style=\"color: #00af00; text-decoration-color: #00af00\">0</span> │ batch_normalizat… │\n",
       "│                     │ <span style=\"color: #00af00; text-decoration-color: #00af00\">128</span>)              │            │ conv2d_16[<span style=\"color: #00af00; text-decoration-color: #00af00\">0</span>][<span style=\"color: #00af00; text-decoration-color: #00af00\">0</span>]   │\n",
       "├─────────────────────┼───────────────────┼────────────┼───────────────────┤\n",
       "│ max_pooling2d_14    │ (<span style=\"color: #00d7ff; text-decoration-color: #00d7ff\">None</span>, <span style=\"color: #00af00; text-decoration-color: #00af00\">12</span>, <span style=\"color: #00af00; text-decoration-color: #00af00\">12</span>,    │          <span style=\"color: #00af00; text-decoration-color: #00af00\">0</span> │ add_2[<span style=\"color: #00af00; text-decoration-color: #00af00\">0</span>][<span style=\"color: #00af00; text-decoration-color: #00af00\">0</span>]       │\n",
       "│ (<span style=\"color: #0087ff; text-decoration-color: #0087ff\">MaxPooling2D</span>)      │ <span style=\"color: #00af00; text-decoration-color: #00af00\">128</span>)              │            │                   │\n",
       "├─────────────────────┼───────────────────┼────────────┼───────────────────┤\n",
       "│ dropout_20          │ (<span style=\"color: #00d7ff; text-decoration-color: #00d7ff\">None</span>, <span style=\"color: #00af00; text-decoration-color: #00af00\">12</span>, <span style=\"color: #00af00; text-decoration-color: #00af00\">12</span>,    │          <span style=\"color: #00af00; text-decoration-color: #00af00\">0</span> │ max_pooling2d_14… │\n",
       "│ (<span style=\"color: #0087ff; text-decoration-color: #0087ff\">Dropout</span>)           │ <span style=\"color: #00af00; text-decoration-color: #00af00\">128</span>)              │            │                   │\n",
       "├─────────────────────┼───────────────────┼────────────┼───────────────────┤\n",
       "│ conv2d_17 (<span style=\"color: #0087ff; text-decoration-color: #0087ff\">Conv2D</span>)  │ (<span style=\"color: #00d7ff; text-decoration-color: #00d7ff\">None</span>, <span style=\"color: #00af00; text-decoration-color: #00af00\">12</span>, <span style=\"color: #00af00; text-decoration-color: #00af00\">12</span>,    │    <span style=\"color: #00af00; text-decoration-color: #00af00\">295,168</span> │ dropout_20[<span style=\"color: #00af00; text-decoration-color: #00af00\">0</span>][<span style=\"color: #00af00; text-decoration-color: #00af00\">0</span>]  │\n",
       "│                     │ <span style=\"color: #00af00; text-decoration-color: #00af00\">256</span>)              │            │                   │\n",
       "├─────────────────────┼───────────────────┼────────────┼───────────────────┤\n",
       "│ batch_normalizatio… │ (<span style=\"color: #00d7ff; text-decoration-color: #00d7ff\">None</span>, <span style=\"color: #00af00; text-decoration-color: #00af00\">12</span>, <span style=\"color: #00af00; text-decoration-color: #00af00\">12</span>,    │      <span style=\"color: #00af00; text-decoration-color: #00af00\">1,024</span> │ conv2d_17[<span style=\"color: #00af00; text-decoration-color: #00af00\">0</span>][<span style=\"color: #00af00; text-decoration-color: #00af00\">0</span>]   │\n",
       "│ (<span style=\"color: #0087ff; text-decoration-color: #0087ff\">BatchNormalizatio…</span> │ <span style=\"color: #00af00; text-decoration-color: #00af00\">256</span>)              │            │                   │\n",
       "├─────────────────────┼───────────────────┼────────────┼───────────────────┤\n",
       "│ dropout_21          │ (<span style=\"color: #00d7ff; text-decoration-color: #00d7ff\">None</span>, <span style=\"color: #00af00; text-decoration-color: #00af00\">12</span>, <span style=\"color: #00af00; text-decoration-color: #00af00\">12</span>,    │          <span style=\"color: #00af00; text-decoration-color: #00af00\">0</span> │ batch_normalizat… │\n",
       "│ (<span style=\"color: #0087ff; text-decoration-color: #0087ff\">Dropout</span>)           │ <span style=\"color: #00af00; text-decoration-color: #00af00\">256</span>)              │            │                   │\n",
       "├─────────────────────┼───────────────────┼────────────┼───────────────────┤\n",
       "│ flatten_4 (<span style=\"color: #0087ff; text-decoration-color: #0087ff\">Flatten</span>) │ (<span style=\"color: #00d7ff; text-decoration-color: #00d7ff\">None</span>, <span style=\"color: #00af00; text-decoration-color: #00af00\">36864</span>)     │          <span style=\"color: #00af00; text-decoration-color: #00af00\">0</span> │ dropout_21[<span style=\"color: #00af00; text-decoration-color: #00af00\">0</span>][<span style=\"color: #00af00; text-decoration-color: #00af00\">0</span>]  │\n",
       "├─────────────────────┼───────────────────┼────────────┼───────────────────┤\n",
       "│ dense_11 (<span style=\"color: #0087ff; text-decoration-color: #0087ff\">Dense</span>)    │ (<span style=\"color: #00d7ff; text-decoration-color: #00d7ff\">None</span>, <span style=\"color: #00af00; text-decoration-color: #00af00\">256</span>)       │  <span style=\"color: #00af00; text-decoration-color: #00af00\">9,437,440</span> │ flatten_4[<span style=\"color: #00af00; text-decoration-color: #00af00\">0</span>][<span style=\"color: #00af00; text-decoration-color: #00af00\">0</span>]   │\n",
       "├─────────────────────┼───────────────────┼────────────┼───────────────────┤\n",
       "│ batch_normalizatio… │ (<span style=\"color: #00d7ff; text-decoration-color: #00d7ff\">None</span>, <span style=\"color: #00af00; text-decoration-color: #00af00\">256</span>)       │      <span style=\"color: #00af00; text-decoration-color: #00af00\">1,024</span> │ dense_11[<span style=\"color: #00af00; text-decoration-color: #00af00\">0</span>][<span style=\"color: #00af00; text-decoration-color: #00af00\">0</span>]    │\n",
       "│ (<span style=\"color: #0087ff; text-decoration-color: #0087ff\">BatchNormalizatio…</span> │                   │            │                   │\n",
       "├─────────────────────┼───────────────────┼────────────┼───────────────────┤\n",
       "│ dropout_22          │ (<span style=\"color: #00d7ff; text-decoration-color: #00d7ff\">None</span>, <span style=\"color: #00af00; text-decoration-color: #00af00\">256</span>)       │          <span style=\"color: #00af00; text-decoration-color: #00af00\">0</span> │ batch_normalizat… │\n",
       "│ (<span style=\"color: #0087ff; text-decoration-color: #0087ff\">Dropout</span>)           │                   │            │                   │\n",
       "├─────────────────────┼───────────────────┼────────────┼───────────────────┤\n",
       "│ dense_12 (<span style=\"color: #0087ff; text-decoration-color: #0087ff\">Dense</span>)    │ (<span style=\"color: #00d7ff; text-decoration-color: #00d7ff\">None</span>, <span style=\"color: #00af00; text-decoration-color: #00af00\">128</span>)       │     <span style=\"color: #00af00; text-decoration-color: #00af00\">32,896</span> │ dropout_22[<span style=\"color: #00af00; text-decoration-color: #00af00\">0</span>][<span style=\"color: #00af00; text-decoration-color: #00af00\">0</span>]  │\n",
       "├─────────────────────┼───────────────────┼────────────┼───────────────────┤\n",
       "│ batch_normalizatio… │ (<span style=\"color: #00d7ff; text-decoration-color: #00d7ff\">None</span>, <span style=\"color: #00af00; text-decoration-color: #00af00\">128</span>)       │        <span style=\"color: #00af00; text-decoration-color: #00af00\">512</span> │ dense_12[<span style=\"color: #00af00; text-decoration-color: #00af00\">0</span>][<span style=\"color: #00af00; text-decoration-color: #00af00\">0</span>]    │\n",
       "│ (<span style=\"color: #0087ff; text-decoration-color: #0087ff\">BatchNormalizatio…</span> │                   │            │                   │\n",
       "├─────────────────────┼───────────────────┼────────────┼───────────────────┤\n",
       "│ dropout_23          │ (<span style=\"color: #00d7ff; text-decoration-color: #00d7ff\">None</span>, <span style=\"color: #00af00; text-decoration-color: #00af00\">128</span>)       │          <span style=\"color: #00af00; text-decoration-color: #00af00\">0</span> │ batch_normalizat… │\n",
       "│ (<span style=\"color: #0087ff; text-decoration-color: #0087ff\">Dropout</span>)           │                   │            │                   │\n",
       "├─────────────────────┼───────────────────┼────────────┼───────────────────┤\n",
       "│ dense_13 (<span style=\"color: #0087ff; text-decoration-color: #0087ff\">Dense</span>)    │ (<span style=\"color: #00d7ff; text-decoration-color: #00d7ff\">None</span>, <span style=\"color: #00af00; text-decoration-color: #00af00\">7</span>)         │        <span style=\"color: #00af00; text-decoration-color: #00af00\">903</span> │ dropout_23[<span style=\"color: #00af00; text-decoration-color: #00af00\">0</span>][<span style=\"color: #00af00; text-decoration-color: #00af00\">0</span>]  │\n",
       "└─────────────────────┴───────────────────┴────────────┴───────────────────┘\n",
       "</pre>\n"
      ]
     },
     "metadata": {},
     "output_type": "display_data"
    },
    {
     "data": {
      "text/plain": [
       "\u001B[1m Total params: \u001B[0m\u001B[38;5;34m9,853,575\u001B[0m (37.59 MB)\n"
      ],
      "text/html": [
       "<pre style=\"white-space:pre;overflow-x:auto;line-height:normal;font-family:Menlo,'DejaVu Sans Mono',consolas,'Courier New',monospace\"><span style=\"font-weight: bold\"> Total params: </span><span style=\"color: #00af00; text-decoration-color: #00af00\">9,853,575</span> (37.59 MB)\n",
       "</pre>\n"
      ]
     },
     "metadata": {},
     "output_type": "display_data"
    },
    {
     "data": {
      "text/plain": [
       "\u001B[1m Trainable params: \u001B[0m\u001B[38;5;34m9,851,911\u001B[0m (37.58 MB)\n"
      ],
      "text/html": [
       "<pre style=\"white-space:pre;overflow-x:auto;line-height:normal;font-family:Menlo,'DejaVu Sans Mono',consolas,'Courier New',monospace\"><span style=\"font-weight: bold\"> Trainable params: </span><span style=\"color: #00af00; text-decoration-color: #00af00\">9,851,911</span> (37.58 MB)\n",
       "</pre>\n"
      ]
     },
     "metadata": {},
     "output_type": "display_data"
    },
    {
     "data": {
      "text/plain": [
       "\u001B[1m Non-trainable params: \u001B[0m\u001B[38;5;34m1,664\u001B[0m (6.50 KB)\n"
      ],
      "text/html": [
       "<pre style=\"white-space:pre;overflow-x:auto;line-height:normal;font-family:Menlo,'DejaVu Sans Mono',consolas,'Courier New',monospace\"><span style=\"font-weight: bold\"> Non-trainable params: </span><span style=\"color: #00af00; text-decoration-color: #00af00\">1,664</span> (6.50 KB)\n",
       "</pre>\n"
      ]
     },
     "metadata": {},
     "output_type": "display_data"
    }
   ],
   "execution_count": 39
  },
  {
   "cell_type": "code",
   "source": [
    "# Callbacks\n",
    "early_stop = EarlyStopping(\n",
    "    monitor='val_accuracy',    # Monitor validation accuracy\n",
    "    patience=5,                # Allow 5 epochs of no improvement\n",
    "    restore_best_weights=True, # Restore the best weights after stopping\n",
    "    verbose=1\n",
    ")\n",
    "\n",
    "reduce_lr = ReduceLROnPlateau(\n",
    "    monitor='val_accuracy',    # Monitor validation accuracy\n",
    "    factor=0.5,                # Reduce the learning rate by half\n",
    "    patience=3,                # Wait for 3 epochs of no improvement\n",
    "    min_lr=1e-6,               # Lower bound for the learning rate\n",
    "    verbose=1                  # Print a message when the learning rate is reduced\n",
    ")\n",
    "\n",
    "checkpoint = ModelCheckpoint(\n",
    "    'best_model.keras',           # File to save the best model\n",
    "    monitor='val_accuracy',    # Monitor validation accuracy\n",
    "    save_best_only=True,       # Save only the best model\n",
    "    mode='max',                # Maximize val_accuracy\n",
    "    verbose=1\n",
    ")"
   ],
   "metadata": {
    "id": "0Yd0zPGuLIaI",
    "ExecuteTime": {
     "end_time": "2025-03-19T17:37:26.206755Z",
     "start_time": "2025-03-19T17:37:26.202789Z"
    }
   },
   "outputs": [],
   "execution_count": 40
  },
  {
   "metadata": {
    "ExecuteTime": {
     "end_time": "2025-03-19T17:37:26.236232Z",
     "start_time": "2025-03-19T17:37:26.229590Z"
    }
   },
   "cell_type": "code",
   "source": [
    "# Get the class labels assigned to each image in the training dataset\n",
    "y_train = train_data.classes  # Extract labels from train_data\n",
    "\n",
    "# Compute class weights\n",
    "class_weights = compute_class_weight('balanced', classes=np.unique(y_train), y=y_train)\n",
    "\n",
    "# Convert to dictionary format required by Keras\n",
    "class_weights = dict(enumerate(class_weights))"
   ],
   "outputs": [],
   "execution_count": 41
  },
  {
   "cell_type": "code",
   "source": [
    "# Train the model\n",
    "history = model.fit(\n",
    "    train_data,\n",
    "    validation_data=val_data,  # Using validation data\n",
    "    epochs=30,\n",
    "    batch_size=32,             # Explicit batch size (adjust if needed)\n",
    "    class_weight=class_weights,\n",
    "    callbacks=[early_stop, reduce_lr, checkpoint]\n",
    ")"
   ],
   "metadata": {
    "id": "ti0YI862LKvI",
    "colab": {
     "base_uri": "https://localhost:8080/"
    },
    "outputId": "698a976a-1bef-47fd-a7d3-976a47e73074",
    "ExecuteTime": {
     "end_time": "2025-03-19T18:35:19.848637Z",
     "start_time": "2025-03-19T17:37:26.257983Z"
    }
   },
   "outputs": [
    {
     "name": "stdout",
     "output_type": "stream",
     "text": [
      "Epoch 1/30\n"
     ]
    },
    {
     "name": "stderr",
     "output_type": "stream",
     "text": [
      "C:\\Users\\LENOVO\\PycharmProjects\\PsychoAI\\.venv\\Lib\\site-packages\\keras\\src\\trainers\\data_adapters\\py_dataset_adapter.py:121: UserWarning: Your `PyDataset` class should call `super().__init__(**kwargs)` in its constructor. `**kwargs` can include `workers`, `use_multiprocessing`, `max_queue_size`. Do not pass these arguments to `fit()`, as they will be ignored.\n",
      "  self._warn_if_super_not_called()\n"
     ]
    },
    {
     "name": "stdout",
     "output_type": "stream",
     "text": [
      "\u001B[1m490/490\u001B[0m \u001B[32m━━━━━━━━━━━━━━━━━━━━\u001B[0m\u001B[37m\u001B[0m \u001B[1m0s\u001B[0m 225ms/step - accuracy: 0.2016 - loss: 11.5170\n",
      "Epoch 1: val_accuracy improved from -inf to 0.19163, saving model to best_model.h5\n"
     ]
    },
    {
     "name": "stderr",
     "output_type": "stream",
     "text": [
      "WARNING:absl:You are saving your model as an HDF5 file via `model.save()` or `keras.saving.save_model(model)`. This file format is considered legacy. We recommend using instead the native Keras format, e.g. `model.save('my_model.keras')` or `keras.saving.save_model(model, 'my_model.keras')`. \n"
     ]
    },
    {
     "name": "stdout",
     "output_type": "stream",
     "text": [
      "\u001B[1m490/490\u001B[0m \u001B[32m━━━━━━━━━━━━━━━━━━━━\u001B[0m\u001B[37m\u001B[0m \u001B[1m118s\u001B[0m 236ms/step - accuracy: 0.2016 - loss: 11.5092 - val_accuracy: 0.1916 - val_loss: 4.4041 - learning_rate: 0.0010\n",
      "Epoch 2/30\n",
      "\u001B[1m490/490\u001B[0m \u001B[32m━━━━━━━━━━━━━━━━━━━━\u001B[0m\u001B[37m\u001B[0m \u001B[1m0s\u001B[0m 226ms/step - accuracy: 0.3009 - loss: 3.9395\n",
      "Epoch 2: val_accuracy improved from 0.19163 to 0.22265, saving model to best_model.h5\n"
     ]
    },
    {
     "name": "stderr",
     "output_type": "stream",
     "text": [
      "WARNING:absl:You are saving your model as an HDF5 file via `model.save()` or `keras.saving.save_model(model)`. This file format is considered legacy. We recommend using instead the native Keras format, e.g. `model.save('my_model.keras')` or `keras.saving.save_model(model, 'my_model.keras')`. \n"
     ]
    },
    {
     "name": "stdout",
     "output_type": "stream",
     "text": [
      "\u001B[1m490/490\u001B[0m \u001B[32m━━━━━━━━━━━━━━━━━━━━\u001B[0m\u001B[37m\u001B[0m \u001B[1m116s\u001B[0m 236ms/step - accuracy: 0.3010 - loss: 3.9390 - val_accuracy: 0.2226 - val_loss: 3.7060 - learning_rate: 0.0010\n",
      "Epoch 3/30\n",
      "\u001B[1m490/490\u001B[0m \u001B[32m━━━━━━━━━━━━━━━━━━━━\u001B[0m\u001B[37m\u001B[0m \u001B[1m0s\u001B[0m 224ms/step - accuracy: 0.3708 - loss: 3.3552\n",
      "Epoch 3: val_accuracy improved from 0.22265 to 0.27933, saving model to best_model.h5\n"
     ]
    },
    {
     "name": "stderr",
     "output_type": "stream",
     "text": [
      "WARNING:absl:You are saving your model as an HDF5 file via `model.save()` or `keras.saving.save_model(model)`. This file format is considered legacy. We recommend using instead the native Keras format, e.g. `model.save('my_model.keras')` or `keras.saving.save_model(model, 'my_model.keras')`. \n"
     ]
    },
    {
     "name": "stdout",
     "output_type": "stream",
     "text": [
      "\u001B[1m490/490\u001B[0m \u001B[32m━━━━━━━━━━━━━━━━━━━━\u001B[0m\u001B[37m\u001B[0m \u001B[1m115s\u001B[0m 235ms/step - accuracy: 0.3708 - loss: 3.3552 - val_accuracy: 0.2793 - val_loss: 3.5509 - learning_rate: 0.0010\n",
      "Epoch 4/30\n",
      "\u001B[1m490/490\u001B[0m \u001B[32m━━━━━━━━━━━━━━━━━━━━\u001B[0m\u001B[37m\u001B[0m \u001B[1m0s\u001B[0m 226ms/step - accuracy: 0.3990 - loss: 3.2713\n",
      "Epoch 4: val_accuracy improved from 0.27933 to 0.36768, saving model to best_model.h5\n"
     ]
    },
    {
     "name": "stderr",
     "output_type": "stream",
     "text": [
      "WARNING:absl:You are saving your model as an HDF5 file via `model.save()` or `keras.saving.save_model(model)`. This file format is considered legacy. We recommend using instead the native Keras format, e.g. `model.save('my_model.keras')` or `keras.saving.save_model(model, 'my_model.keras')`. \n"
     ]
    },
    {
     "name": "stdout",
     "output_type": "stream",
     "text": [
      "\u001B[1m490/490\u001B[0m \u001B[32m━━━━━━━━━━━━━━━━━━━━\u001B[0m\u001B[37m\u001B[0m \u001B[1m116s\u001B[0m 236ms/step - accuracy: 0.3990 - loss: 3.2713 - val_accuracy: 0.3677 - val_loss: 3.4115 - learning_rate: 0.0010\n",
      "Epoch 5/30\n",
      "\u001B[1m490/490\u001B[0m \u001B[32m━━━━━━━━━━━━━━━━━━━━\u001B[0m\u001B[37m\u001B[0m \u001B[1m0s\u001B[0m 225ms/step - accuracy: 0.4158 - loss: 3.3614\n",
      "Epoch 5: val_accuracy did not improve from 0.36768\n",
      "\u001B[1m490/490\u001B[0m \u001B[32m━━━━━━━━━━━━━━━━━━━━\u001B[0m\u001B[37m\u001B[0m \u001B[1m115s\u001B[0m 235ms/step - accuracy: 0.4158 - loss: 3.3615 - val_accuracy: 0.2816 - val_loss: 3.6283 - learning_rate: 0.0010\n",
      "Epoch 6/30\n",
      "\u001B[1m490/490\u001B[0m \u001B[32m━━━━━━━━━━━━━━━━━━━━\u001B[0m\u001B[37m\u001B[0m \u001B[1m0s\u001B[0m 228ms/step - accuracy: 0.4265 - loss: 3.3432\n",
      "Epoch 6: val_accuracy did not improve from 0.36768\n",
      "\u001B[1m490/490\u001B[0m \u001B[32m━━━━━━━━━━━━━━━━━━━━\u001B[0m\u001B[37m\u001B[0m \u001B[1m117s\u001B[0m 238ms/step - accuracy: 0.4265 - loss: 3.3432 - val_accuracy: 0.3384 - val_loss: 3.6342 - learning_rate: 0.0010\n",
      "Epoch 7/30\n",
      "\u001B[1m490/490\u001B[0m \u001B[32m━━━━━━━━━━━━━━━━━━━━\u001B[0m\u001B[37m\u001B[0m \u001B[1m0s\u001B[0m 231ms/step - accuracy: 0.4392 - loss: 3.2980\n",
      "Epoch 7: ReduceLROnPlateau reducing learning rate to 0.0005000000237487257.\n",
      "\n",
      "Epoch 7: val_accuracy did not improve from 0.36768\n",
      "\u001B[1m490/490\u001B[0m \u001B[32m━━━━━━━━━━━━━━━━━━━━\u001B[0m\u001B[37m\u001B[0m \u001B[1m118s\u001B[0m 241ms/step - accuracy: 0.4392 - loss: 3.2980 - val_accuracy: 0.3547 - val_loss: 3.5126 - learning_rate: 0.0010\n",
      "Epoch 8/30\n",
      "\u001B[1m490/490\u001B[0m \u001B[32m━━━━━━━━━━━━━━━━━━━━\u001B[0m\u001B[37m\u001B[0m \u001B[1m0s\u001B[0m 234ms/step - accuracy: 0.4740 - loss: 2.7261\n",
      "Epoch 8: val_accuracy improved from 0.36768 to 0.40687, saving model to best_model.h5\n"
     ]
    },
    {
     "name": "stderr",
     "output_type": "stream",
     "text": [
      "WARNING:absl:You are saving your model as an HDF5 file via `model.save()` or `keras.saving.save_model(model)`. This file format is considered legacy. We recommend using instead the native Keras format, e.g. `model.save('my_model.keras')` or `keras.saving.save_model(model, 'my_model.keras')`. \n"
     ]
    },
    {
     "name": "stdout",
     "output_type": "stream",
     "text": [
      "\u001B[1m490/490\u001B[0m \u001B[32m━━━━━━━━━━━━━━━━━━━━\u001B[0m\u001B[37m\u001B[0m \u001B[1m121s\u001B[0m 246ms/step - accuracy: 0.4740 - loss: 2.7260 - val_accuracy: 0.4069 - val_loss: 2.8837 - learning_rate: 5.0000e-04\n",
      "Epoch 9/30\n",
      "\u001B[1m490/490\u001B[0m \u001B[32m━━━━━━━━━━━━━━━━━━━━\u001B[0m\u001B[37m\u001B[0m \u001B[1m0s\u001B[0m 228ms/step - accuracy: 0.4983 - loss: 2.6259\n",
      "Epoch 9: val_accuracy improved from 0.40687 to 0.44491, saving model to best_model.h5\n"
     ]
    },
    {
     "name": "stderr",
     "output_type": "stream",
     "text": [
      "WARNING:absl:You are saving your model as an HDF5 file via `model.save()` or `keras.saving.save_model(model)`. This file format is considered legacy. We recommend using instead the native Keras format, e.g. `model.save('my_model.keras')` or `keras.saving.save_model(model, 'my_model.keras')`. \n"
     ]
    },
    {
     "name": "stdout",
     "output_type": "stream",
     "text": [
      "\u001B[1m490/490\u001B[0m \u001B[32m━━━━━━━━━━━━━━━━━━━━\u001B[0m\u001B[37m\u001B[0m \u001B[1m117s\u001B[0m 239ms/step - accuracy: 0.4983 - loss: 2.6258 - val_accuracy: 0.4449 - val_loss: 2.7114 - learning_rate: 5.0000e-04\n",
      "Epoch 10/30\n",
      "\u001B[1m490/490\u001B[0m \u001B[32m━━━━━━━━━━━━━━━━━━━━\u001B[0m\u001B[37m\u001B[0m \u001B[1m0s\u001B[0m 227ms/step - accuracy: 0.4961 - loss: 2.5798\n",
      "Epoch 10: val_accuracy improved from 0.44491 to 0.45449, saving model to best_model.h5\n"
     ]
    },
    {
     "name": "stderr",
     "output_type": "stream",
     "text": [
      "WARNING:absl:You are saving your model as an HDF5 file via `model.save()` or `keras.saving.save_model(model)`. This file format is considered legacy. We recommend using instead the native Keras format, e.g. `model.save('my_model.keras')` or `keras.saving.save_model(model, 'my_model.keras')`. \n"
     ]
    },
    {
     "name": "stdout",
     "output_type": "stream",
     "text": [
      "\u001B[1m490/490\u001B[0m \u001B[32m━━━━━━━━━━━━━━━━━━━━\u001B[0m\u001B[37m\u001B[0m \u001B[1m116s\u001B[0m 237ms/step - accuracy: 0.4961 - loss: 2.5799 - val_accuracy: 0.4545 - val_loss: 2.6411 - learning_rate: 5.0000e-04\n",
      "Epoch 11/30\n",
      "\u001B[1m490/490\u001B[0m \u001B[32m━━━━━━━━━━━━━━━━━━━━\u001B[0m\u001B[37m\u001B[0m \u001B[1m0s\u001B[0m 226ms/step - accuracy: 0.5091 - loss: 2.5805\n",
      "Epoch 11: val_accuracy did not improve from 0.45449\n",
      "\u001B[1m490/490\u001B[0m \u001B[32m━━━━━━━━━━━━━━━━━━━━\u001B[0m\u001B[37m\u001B[0m \u001B[1m116s\u001B[0m 236ms/step - accuracy: 0.5091 - loss: 2.5805 - val_accuracy: 0.4387 - val_loss: 2.7359 - learning_rate: 5.0000e-04\n",
      "Epoch 12/30\n",
      "\u001B[1m490/490\u001B[0m \u001B[32m━━━━━━━━━━━━━━━━━━━━\u001B[0m\u001B[37m\u001B[0m \u001B[1m0s\u001B[0m 229ms/step - accuracy: 0.5128 - loss: 2.6095\n",
      "Epoch 12: val_accuracy improved from 0.45449 to 0.46496, saving model to best_model.h5\n"
     ]
    },
    {
     "name": "stderr",
     "output_type": "stream",
     "text": [
      "WARNING:absl:You are saving your model as an HDF5 file via `model.save()` or `keras.saving.save_model(model)`. This file format is considered legacy. We recommend using instead the native Keras format, e.g. `model.save('my_model.keras')` or `keras.saving.save_model(model, 'my_model.keras')`. \n"
     ]
    },
    {
     "name": "stdout",
     "output_type": "stream",
     "text": [
      "\u001B[1m490/490\u001B[0m \u001B[32m━━━━━━━━━━━━━━━━━━━━\u001B[0m\u001B[37m\u001B[0m \u001B[1m117s\u001B[0m 239ms/step - accuracy: 0.5128 - loss: 2.6095 - val_accuracy: 0.4650 - val_loss: 2.6659 - learning_rate: 5.0000e-04\n",
      "Epoch 13/30\n",
      "\u001B[1m490/490\u001B[0m \u001B[32m━━━━━━━━━━━━━━━━━━━━\u001B[0m\u001B[37m\u001B[0m \u001B[1m0s\u001B[0m 225ms/step - accuracy: 0.5207 - loss: 2.5649\n",
      "Epoch 13: val_accuracy improved from 0.46496 to 0.47032, saving model to best_model.h5\n"
     ]
    },
    {
     "name": "stderr",
     "output_type": "stream",
     "text": [
      "WARNING:absl:You are saving your model as an HDF5 file via `model.save()` or `keras.saving.save_model(model)`. This file format is considered legacy. We recommend using instead the native Keras format, e.g. `model.save('my_model.keras')` or `keras.saving.save_model(model, 'my_model.keras')`. \n"
     ]
    },
    {
     "name": "stdout",
     "output_type": "stream",
     "text": [
      "\u001B[1m490/490\u001B[0m \u001B[32m━━━━━━━━━━━━━━━━━━━━\u001B[0m\u001B[37m\u001B[0m \u001B[1m116s\u001B[0m 236ms/step - accuracy: 0.5207 - loss: 2.5650 - val_accuracy: 0.4703 - val_loss: 2.6251 - learning_rate: 5.0000e-04\n",
      "Epoch 14/30\n",
      "\u001B[1m490/490\u001B[0m \u001B[32m━━━━━━━━━━━━━━━━━━━━\u001B[0m\u001B[37m\u001B[0m \u001B[1m0s\u001B[0m 226ms/step - accuracy: 0.5291 - loss: 2.5370\n",
      "Epoch 14: val_accuracy improved from 0.47032 to 0.47632, saving model to best_model.h5\n"
     ]
    },
    {
     "name": "stderr",
     "output_type": "stream",
     "text": [
      "WARNING:absl:You are saving your model as an HDF5 file via `model.save()` or `keras.saving.save_model(model)`. This file format is considered legacy. We recommend using instead the native Keras format, e.g. `model.save('my_model.keras')` or `keras.saving.save_model(model, 'my_model.keras')`. \n"
     ]
    },
    {
     "name": "stdout",
     "output_type": "stream",
     "text": [
      "\u001B[1m490/490\u001B[0m \u001B[32m━━━━━━━━━━━━━━━━━━━━\u001B[0m\u001B[37m\u001B[0m \u001B[1m116s\u001B[0m 237ms/step - accuracy: 0.5290 - loss: 2.5370 - val_accuracy: 0.4763 - val_loss: 2.6075 - learning_rate: 5.0000e-04\n",
      "Epoch 15/30\n",
      "\u001B[1m490/490\u001B[0m \u001B[32m━━━━━━━━━━━━━━━━━━━━\u001B[0m\u001B[37m\u001B[0m \u001B[1m0s\u001B[0m 227ms/step - accuracy: 0.5259 - loss: 2.5252\n",
      "Epoch 15: val_accuracy did not improve from 0.47632\n",
      "\u001B[1m490/490\u001B[0m \u001B[32m━━━━━━━━━━━━━━━━━━━━\u001B[0m\u001B[37m\u001B[0m \u001B[1m116s\u001B[0m 237ms/step - accuracy: 0.5259 - loss: 2.5252 - val_accuracy: 0.3942 - val_loss: 2.7998 - learning_rate: 5.0000e-04\n",
      "Epoch 16/30\n",
      "\u001B[1m490/490\u001B[0m \u001B[32m━━━━━━━━━━━━━━━━━━━━\u001B[0m\u001B[37m\u001B[0m \u001B[1m0s\u001B[0m 229ms/step - accuracy: 0.5349 - loss: 2.5410\n",
      "Epoch 16: val_accuracy did not improve from 0.47632\n",
      "\u001B[1m490/490\u001B[0m \u001B[32m━━━━━━━━━━━━━━━━━━━━\u001B[0m\u001B[37m\u001B[0m \u001B[1m117s\u001B[0m 239ms/step - accuracy: 0.5349 - loss: 2.5410 - val_accuracy: 0.4581 - val_loss: 2.6813 - learning_rate: 5.0000e-04\n",
      "Epoch 17/30\n",
      "\u001B[1m490/490\u001B[0m \u001B[32m━━━━━━━━━━━━━━━━━━━━\u001B[0m\u001B[37m\u001B[0m \u001B[1m0s\u001B[0m 232ms/step - accuracy: 0.5425 - loss: 2.4875\n",
      "Epoch 17: ReduceLROnPlateau reducing learning rate to 0.0002500000118743628.\n",
      "\n",
      "Epoch 17: val_accuracy did not improve from 0.47632\n",
      "\u001B[1m490/490\u001B[0m \u001B[32m━━━━━━━━━━━━━━━━━━━━\u001B[0m\u001B[37m\u001B[0m \u001B[1m119s\u001B[0m 242ms/step - accuracy: 0.5425 - loss: 2.4875 - val_accuracy: 0.4292 - val_loss: 2.7883 - learning_rate: 5.0000e-04\n",
      "Epoch 18/30\n",
      "\u001B[1m490/490\u001B[0m \u001B[32m━━━━━━━━━━━━━━━━━━━━\u001B[0m\u001B[37m\u001B[0m \u001B[1m0s\u001B[0m 231ms/step - accuracy: 0.5689 - loss: 2.1702\n",
      "Epoch 18: val_accuracy improved from 0.47632 to 0.50568, saving model to best_model.h5\n"
     ]
    },
    {
     "name": "stderr",
     "output_type": "stream",
     "text": [
      "WARNING:absl:You are saving your model as an HDF5 file via `model.save()` or `keras.saving.save_model(model)`. This file format is considered legacy. We recommend using instead the native Keras format, e.g. `model.save('my_model.keras')` or `keras.saving.save_model(model, 'my_model.keras')`. \n"
     ]
    },
    {
     "name": "stdout",
     "output_type": "stream",
     "text": [
      "\u001B[1m490/490\u001B[0m \u001B[32m━━━━━━━━━━━━━━━━━━━━\u001B[0m\u001B[37m\u001B[0m \u001B[1m119s\u001B[0m 243ms/step - accuracy: 0.5689 - loss: 2.1700 - val_accuracy: 0.5057 - val_loss: 2.1833 - learning_rate: 2.5000e-04\n",
      "Epoch 19/30\n",
      "\u001B[1m490/490\u001B[0m \u001B[32m━━━━━━━━━━━━━━━━━━━━\u001B[0m\u001B[37m\u001B[0m \u001B[1m0s\u001B[0m 230ms/step - accuracy: 0.5810 - loss: 2.0205\n",
      "Epoch 19: val_accuracy did not improve from 0.50568\n",
      "\u001B[1m490/490\u001B[0m \u001B[32m━━━━━━━━━━━━━━━━━━━━\u001B[0m\u001B[37m\u001B[0m \u001B[1m118s\u001B[0m 241ms/step - accuracy: 0.5810 - loss: 2.0205 - val_accuracy: 0.4587 - val_loss: 2.4002 - learning_rate: 2.5000e-04\n",
      "Epoch 20/30\n",
      "\u001B[1m490/490\u001B[0m \u001B[32m━━━━━━━━━━━━━━━━━━━━\u001B[0m\u001B[37m\u001B[0m \u001B[1m0s\u001B[0m 236ms/step - accuracy: 0.5808 - loss: 2.0244\n",
      "Epoch 20: val_accuracy did not improve from 0.50568\n",
      "\u001B[1m490/490\u001B[0m \u001B[32m━━━━━━━━━━━━━━━━━━━━\u001B[0m\u001B[37m\u001B[0m \u001B[1m121s\u001B[0m 246ms/step - accuracy: 0.5808 - loss: 2.0245 - val_accuracy: 0.4744 - val_loss: 2.3265 - learning_rate: 2.5000e-04\n",
      "Epoch 21/30\n",
      "\u001B[1m490/490\u001B[0m \u001B[32m━━━━━━━━━━━━━━━━━━━━\u001B[0m\u001B[37m\u001B[0m \u001B[1m0s\u001B[0m 234ms/step - accuracy: 0.5911 - loss: 2.0291\n",
      "Epoch 21: ReduceLROnPlateau reducing learning rate to 0.0001250000059371814.\n",
      "\n",
      "Epoch 21: val_accuracy did not improve from 0.50568\n",
      "\u001B[1m490/490\u001B[0m \u001B[32m━━━━━━━━━━━━━━━━━━━━\u001B[0m\u001B[37m\u001B[0m \u001B[1m120s\u001B[0m 245ms/step - accuracy: 0.5911 - loss: 2.0292 - val_accuracy: 0.5038 - val_loss: 2.2783 - learning_rate: 2.5000e-04\n",
      "Epoch 22/30\n",
      "\u001B[1m490/490\u001B[0m \u001B[32m━━━━━━━━━━━━━━━━━━━━\u001B[0m\u001B[37m\u001B[0m \u001B[1m0s\u001B[0m 253ms/step - accuracy: 0.6177 - loss: 1.8292\n",
      "Epoch 22: val_accuracy did not improve from 0.50568\n",
      "\u001B[1m490/490\u001B[0m \u001B[32m━━━━━━━━━━━━━━━━━━━━\u001B[0m\u001B[37m\u001B[0m \u001B[1m131s\u001B[0m 268ms/step - accuracy: 0.6177 - loss: 1.8291 - val_accuracy: 0.5022 - val_loss: 1.9904 - learning_rate: 1.2500e-04\n",
      "Epoch 23/30\n",
      "\u001B[1m490/490\u001B[0m \u001B[32m━━━━━━━━━━━━━━━━━━━━\u001B[0m\u001B[37m\u001B[0m \u001B[1m0s\u001B[0m 268ms/step - accuracy: 0.6230 - loss: 1.6819\n",
      "Epoch 23: val_accuracy improved from 0.50568 to 0.52279, saving model to best_model.h5\n"
     ]
    },
    {
     "name": "stderr",
     "output_type": "stream",
     "text": [
      "WARNING:absl:You are saving your model as an HDF5 file via `model.save()` or `keras.saving.save_model(model)`. This file format is considered legacy. We recommend using instead the native Keras format, e.g. `model.save('my_model.keras')` or `keras.saving.save_model(model, 'my_model.keras')`. \n"
     ]
    },
    {
     "name": "stdout",
     "output_type": "stream",
     "text": [
      "\u001B[1m490/490\u001B[0m \u001B[32m━━━━━━━━━━━━━━━━━━━━\u001B[0m\u001B[37m\u001B[0m \u001B[1m139s\u001B[0m 283ms/step - accuracy: 0.6230 - loss: 1.6819 - val_accuracy: 0.5228 - val_loss: 1.9758 - learning_rate: 1.2500e-04\n",
      "Epoch 24/30\n",
      "\u001B[1m490/490\u001B[0m \u001B[32m━━━━━━━━━━━━━━━━━━━━\u001B[0m\u001B[37m\u001B[0m \u001B[1m0s\u001B[0m 256ms/step - accuracy: 0.6415 - loss: 1.6797\n",
      "Epoch 24: val_accuracy improved from 0.52279 to 0.54270, saving model to best_model.h5\n"
     ]
    },
    {
     "name": "stderr",
     "output_type": "stream",
     "text": [
      "WARNING:absl:You are saving your model as an HDF5 file via `model.save()` or `keras.saving.save_model(model)`. This file format is considered legacy. We recommend using instead the native Keras format, e.g. `model.save('my_model.keras')` or `keras.saving.save_model(model, 'my_model.keras')`. \n"
     ]
    },
    {
     "name": "stdout",
     "output_type": "stream",
     "text": [
      "\u001B[1m490/490\u001B[0m \u001B[32m━━━━━━━━━━━━━━━━━━━━\u001B[0m\u001B[37m\u001B[0m \u001B[1m131s\u001B[0m 266ms/step - accuracy: 0.6414 - loss: 1.6798 - val_accuracy: 0.5427 - val_loss: 1.9707 - learning_rate: 1.2500e-04\n",
      "Epoch 25/30\n",
      "\u001B[1m490/490\u001B[0m \u001B[32m━━━━━━━━━━━━━━━━━━━━\u001B[0m\u001B[37m\u001B[0m \u001B[1m0s\u001B[0m 241ms/step - accuracy: 0.6456 - loss: 1.7015\n",
      "Epoch 25: val_accuracy did not improve from 0.54270\n",
      "\u001B[1m490/490\u001B[0m \u001B[32m━━━━━━━━━━━━━━━━━━━━\u001B[0m\u001B[37m\u001B[0m \u001B[1m125s\u001B[0m 255ms/step - accuracy: 0.6455 - loss: 1.7016 - val_accuracy: 0.5348 - val_loss: 2.0286 - learning_rate: 1.2500e-04\n",
      "Epoch 26/30\n",
      "\u001B[1m490/490\u001B[0m \u001B[32m━━━━━━━━━━━━━━━━━━━━\u001B[0m\u001B[37m\u001B[0m \u001B[1m0s\u001B[0m 250ms/step - accuracy: 0.6496 - loss: 1.7330\n",
      "Epoch 26: val_accuracy did not improve from 0.54270\n",
      "\u001B[1m490/490\u001B[0m \u001B[32m━━━━━━━━━━━━━━━━━━━━\u001B[0m\u001B[37m\u001B[0m \u001B[1m127s\u001B[0m 260ms/step - accuracy: 0.6496 - loss: 1.7331 - val_accuracy: 0.5160 - val_loss: 2.0684 - learning_rate: 1.2500e-04\n",
      "Epoch 27/30\n",
      "\u001B[1m490/490\u001B[0m \u001B[32m━━━━━━━━━━━━━━━━━━━━\u001B[0m\u001B[37m\u001B[0m \u001B[1m0s\u001B[0m 235ms/step - accuracy: 0.6639 - loss: 1.7170\n",
      "Epoch 27: ReduceLROnPlateau reducing learning rate to 6.25000029685907e-05.\n",
      "\n",
      "Epoch 27: val_accuracy did not improve from 0.54270\n",
      "\u001B[1m490/490\u001B[0m \u001B[32m━━━━━━━━━━━━━━━━━━━━\u001B[0m\u001B[37m\u001B[0m \u001B[1m120s\u001B[0m 245ms/step - accuracy: 0.6639 - loss: 1.7171 - val_accuracy: 0.5289 - val_loss: 2.1202 - learning_rate: 1.2500e-04\n",
      "Epoch 28/30\n",
      "\u001B[1m490/490\u001B[0m \u001B[32m━━━━━━━━━━━━━━━━━━━━\u001B[0m\u001B[37m\u001B[0m \u001B[1m0s\u001B[0m 230ms/step - accuracy: 0.6842 - loss: 1.6357\n",
      "Epoch 28: val_accuracy did not improve from 0.54270\n",
      "\u001B[1m490/490\u001B[0m \u001B[32m━━━━━━━━━━━━━━━━━━━━\u001B[0m\u001B[37m\u001B[0m \u001B[1m118s\u001B[0m 241ms/step - accuracy: 0.6841 - loss: 1.6356 - val_accuracy: 0.5265 - val_loss: 2.0044 - learning_rate: 6.2500e-05\n",
      "Epoch 29/30\n",
      "\u001B[1m490/490\u001B[0m \u001B[32m━━━━━━━━━━━━━━━━━━━━\u001B[0m\u001B[37m\u001B[0m \u001B[1m0s\u001B[0m 231ms/step - accuracy: 0.7020 - loss: 1.4805\n",
      "Epoch 29: val_accuracy did not improve from 0.54270\n",
      "\u001B[1m490/490\u001B[0m \u001B[32m━━━━━━━━━━━━━━━━━━━━\u001B[0m\u001B[37m\u001B[0m \u001B[1m118s\u001B[0m 241ms/step - accuracy: 0.7020 - loss: 1.4805 - val_accuracy: 0.5394 - val_loss: 1.8916 - learning_rate: 6.2500e-05\n",
      "Epoch 29: early stopping\n",
      "Restoring model weights from the end of the best epoch: 24.\n"
     ]
    }
   ],
   "execution_count": 42
  },
  {
   "cell_type": "code",
   "source": [
    "# Plotting Accuracy and Loss over Epochs\n",
    "plt.figure(figsize=(12, 5))\n",
    "\n",
    "# Plotting Accuracy\n",
    "plt.subplot(1, 2, 1)\n",
    "plt.plot(history.history['accuracy'], label='Train Accuracy')\n",
    "plt.plot(history.history['val_accuracy'], label='Val Accuracy')\n",
    "plt.legend()\n",
    "plt.title(\"Accuracy over Epochs\")\n",
    "\n",
    "# Plotting Loss\n",
    "plt.subplot(1, 2, 2)\n",
    "plt.plot(history.history['loss'], label='Train Loss')\n",
    "plt.plot(history.history['val_loss'], label='Val Loss')\n",
    "plt.legend()\n",
    "plt.title(\"Loss over Epochs\")\n",
    "\n",
    "plt.show()"
   ],
   "metadata": {
    "id": "W_k0OE9jLMbD",
    "ExecuteTime": {
     "end_time": "2025-03-19T18:35:27.056904Z",
     "start_time": "2025-03-19T18:35:26.866513Z"
    }
   },
   "outputs": [
    {
     "data": {
      "text/plain": [
       "<Figure size 1200x500 with 2 Axes>"
      ],
      "image/png": "[encoded data removed]"
     },
     "metadata": {},
     "output_type": "display_data"
    }
   ],
   "execution_count": 43
  },
  {
   "cell_type": "code",
   "source": [
    "# Predict on validation data (test_data)\n",
    "y_pred = model.predict(test_data)  # Using test_data (ImageDataGenerator for validation)\n",
    "y_pred_classes = np.argmax(y_pred, axis=1)\n",
    "\n",
    "# Get true labels from test_data (using the flow_from_directory)\n",
    "y_true_classes = test_data.classes  # Extract true labels from the 'classes' attribute of the generator\n",
    "\n",
    "# Generate Confusion Matrix\n",
    "conf_matrix = confusion_matrix(y_true_classes, y_pred_classes)\n",
    "\n",
    "# Plot Confusion Matrix\n",
    "plt.figure(figsize=(10, 8))\n",
    "sns.heatmap(conf_matrix, annot=True, cmap=\"Blues\", fmt='g',\n",
    "            xticklabels=test_data.class_indices.keys(),  # Using class labels from the generator\n",
    "            yticklabels=test_data.class_indices.keys())  # Using class labels from the generator\n",
    "plt.xlabel(\"Predicted\")\n",
    "plt.ylabel(\"Actual\")\n",
    "plt.title(\"Confusion Matrix\")\n",
    "plt.show()"
   ],
   "metadata": {
    "id": "-EWPiAgpLOaf",
    "ExecuteTime": {
     "end_time": "2025-03-19T18:35:30.221241Z",
     "start_time": "2025-03-19T18:35:27.066010Z"
    }
   },
   "outputs": [
    {
     "name": "stderr",
     "output_type": "stream",
     "text": [
      "C:\\Users\\LENOVO\\PycharmProjects\\PsychoAI\\.venv\\Lib\\site-packages\\keras\\src\\trainers\\data_adapters\\py_dataset_adapter.py:121: UserWarning: Your `PyDataset` class should call `super().__init__(**kwargs)` in its constructor. `**kwargs` can include `workers`, `use_multiprocessing`, `max_queue_size`. Do not pass these arguments to `fit()`, as they will be ignored.\n",
      "  self._warn_if_super_not_called()\n"
     ]
    },
    {
     "name": "stdout",
     "output_type": "stream",
     "text": [
      "\u001B[1m72/72\u001B[0m \u001B[32m━━━━━━━━━━━━━━━━━━━━\u001B[0m\u001B[37m\u001B[0m \u001B[1m3s\u001B[0m 38ms/step\n"
     ]
    },
    {
     "data": {
      "text/plain": [
       "<Figure size 1000x800 with 2 Axes>"
      ],
      "image/png": "[encoded data removed]"
     },
     "metadata": {},
     "output_type": "display_data"
    }
   ],
   "execution_count": 44
  },
  {
   "cell_type": "code",
   "source": [
    "from sklearn.metrics import classification_report\n",
    "\n",
    "# Get predictions\n",
    "y_pred_prob = model.predict(test_data, verbose=1)\n",
    "y_pred_classes = np.argmax(y_pred_prob, axis=1)\n",
    "\n",
    "# Get true labels\n",
    "y_true_classes = test_data.classes  # Extract true labels\n",
    "class_labels = list(test_data.class_indices.keys())  # Get class names\n",
    "\n",
    "# Generate Classification Report\n",
    "report = classification_report(y_true_classes, y_pred_classes, target_names=class_labels)\n",
    "print(report)"
   ],
   "metadata": {
    "id": "ZBNBD1jvLSQP",
    "ExecuteTime": {
     "end_time": "2025-03-19T18:35:32.923359Z",
     "start_time": "2025-03-19T18:35:30.236082Z"
    }
   },
   "outputs": [
    {
     "name": "stdout",
     "output_type": "stream",
     "text": [
      "\u001B[1m72/72\u001B[0m \u001B[32m━━━━━━━━━━━━━━━━━━━━\u001B[0m\u001B[37m\u001B[0m \u001B[1m3s\u001B[0m 36ms/step\n",
      "              precision    recall  f1-score   support\n",
      "\n",
      "       angry       0.51      0.46      0.48       651\n",
      "     disgust       0.89      0.75      0.81       651\n",
      "        fear       0.46      0.25      0.32       651\n",
      "       happy       0.74      0.81      0.78       651\n",
      "     neutral       0.48      0.63      0.55       651\n",
      "         sad       0.41      0.54      0.46       651\n",
      "    surprise       0.76      0.75      0.76       651\n",
      "\n",
      "    accuracy                           0.60      4557\n",
      "   macro avg       0.61      0.60      0.59      4557\n",
      "weighted avg       0.61      0.60      0.59      4557\n",
      "\n"
     ]
    }
   ],
   "execution_count": 45
  },
  {
   "cell_type": "code",
   "source": "model.save(\"custom_model_v3.keras\")",
   "metadata": {
    "id": "X_QV-fSjxkUx",
    "ExecuteTime": {
     "end_time": "2025-03-19T18:35:33.270324Z",
     "start_time": "2025-03-19T18:35:32.936050Z"
    }
   },
   "outputs": [],
   "execution_count": 46
  },
  {
   "cell_type": "code",
   "source": [
    "import cv2\n",
    "# Load the trained model\n",
    "model = tf.keras.models.load_model(\"custom_model_v3.keras\")\n",
    "\n",
    "# Define the categories\n",
    "focused_classes = [\"Happy\", \"Neutral\", \"Surprise\"]\n",
    "unfocused_classes = [\"Angry\", \"Disgust\", \"Fear\", \"Sad\"]\n",
    "\n",
    "# Define the image directory\n",
    "image_folder = \"Student_live_captures\"  # Folder containing the 50 images\n",
    "\n",
    "# Emotion class labels (update based on your dataset order)\n",
    "class_labels = [\"Angry\", \"Disgust\", \"Fear\", \"Happy\", \"Neutral\", \"Sad\", \"Surprise\"]\n",
    "\n",
    "# Initialize counters\n",
    "focused_count = 0\n",
    "unfocused_count = 0\n",
    "total_images = 0\n",
    "\n",
    "# Process each image in the folder\n",
    "for filename in os.listdir(image_folder):\n",
    "    img_path = os.path.join(image_folder, filename)\n",
    "\n",
    "    # Read and preprocess the image\n",
    "    img = cv2.imread(img_path, cv2.IMREAD_GRAYSCALE)  # Read in grayscale\n",
    "    img = cv2.resize(img, (48, 48))  # Resize to match input shape\n",
    "    img = img_to_array(img) / 255.0  # Normalize\n",
    "    img = np.expand_dims(img, axis=0)  # Add batch dimension\n",
    "\n",
    "    # Make prediction\n",
    "    prediction = model.predict(img)\n",
    "    predicted_class = class_labels[np.argmax(prediction)]  # Get the highest probability class\n",
    "\n",
    "    # Categorize into Focused or Unfocused\n",
    "    if predicted_class in focused_classes:\n",
    "        focused_count += 1\n",
    "    else:\n",
    "        unfocused_count += 1\n",
    "\n",
    "    total_images += 1\n",
    "\n",
    "# Compute the ratio\n",
    "focused_ratio = focused_count / total_images\n",
    "unfocused_ratio = unfocused_count / total_images\n",
    "\n",
    "# Display results\n",
    "print(f\"Total Images: {total_images}\")\n",
    "print(f\"Focused Count: {focused_count}\")\n",
    "print(f\"Unfocused Count: {unfocused_count}\")\n",
    "print(f\"Focused:Unfocused Ratio -> {focused_ratio:.2f} : {unfocused_ratio:.2f}\")\n"
   ],
   "metadata": {
    "id": "ZW0kY1E9xkwx",
    "ExecuteTime": {
     "end_time": "2025-03-19T18:35:33.358856Z",
     "start_time": "2025-03-19T18:35:33.281113Z"
    }
   },
   "outputs": [
    {
     "ename": "ValueError",
     "evalue": "File not found: filepath=custom_model_50epoch.keras. Please ensure the file is an accessible `.keras` zip file.",
     "output_type": "error",
     "traceback": [
      "\u001B[31m---------------------------------------------------------------------------\u001B[39m",
      "\u001B[31mValueError\u001B[39m                                Traceback (most recent call last)",
      "\u001B[36mCell\u001B[39m\u001B[36m \u001B[39m\u001B[32mIn[47]\u001B[39m\u001B[32m, line 2\u001B[39m\n\u001B[32m      1\u001B[39m \u001B[38;5;66;03m# Load the trained model\u001B[39;00m\n\u001B[32m----> \u001B[39m\u001B[32m2\u001B[39m model = \u001B[43mtf\u001B[49m\u001B[43m.\u001B[49m\u001B[43mkeras\u001B[49m\u001B[43m.\u001B[49m\u001B[43mmodels\u001B[49m\u001B[43m.\u001B[49m\u001B[43mload_model\u001B[49m\u001B[43m(\u001B[49m\u001B[33;43m\"\u001B[39;49m\u001B[33;43mcustom_model_50epoch.keras\u001B[39;49m\u001B[33;43m\"\u001B[39;49m\u001B[43m)\u001B[49m\n\u001B[32m      4\u001B[39m \u001B[38;5;66;03m# Define the categories\u001B[39;00m\n\u001B[32m      5\u001B[39m focused_classes = [\u001B[33m\"\u001B[39m\u001B[33mHappy\u001B[39m\u001B[33m\"\u001B[39m, \u001B[33m\"\u001B[39m\u001B[33mNeutral\u001B[39m\u001B[33m\"\u001B[39m, \u001B[33m\"\u001B[39m\u001B[33mSurprise\u001B[39m\u001B[33m\"\u001B[39m]\n",
      "\u001B[36mFile \u001B[39m\u001B[32m~\\PycharmProjects\\PsychoAI\\.venv\\Lib\\site-packages\\keras\\src\\saving\\saving_api.py:200\u001B[39m, in \u001B[36mload_model\u001B[39m\u001B[34m(filepath, custom_objects, compile, safe_mode)\u001B[39m\n\u001B[32m    196\u001B[39m     \u001B[38;5;28;01mreturn\u001B[39;00m legacy_h5_format.load_model_from_hdf5(\n\u001B[32m    197\u001B[39m         filepath, custom_objects=custom_objects, \u001B[38;5;28mcompile\u001B[39m=\u001B[38;5;28mcompile\u001B[39m\n\u001B[32m    198\u001B[39m     )\n\u001B[32m    199\u001B[39m \u001B[38;5;28;01melif\u001B[39;00m \u001B[38;5;28mstr\u001B[39m(filepath).endswith(\u001B[33m\"\u001B[39m\u001B[33m.keras\u001B[39m\u001B[33m\"\u001B[39m):\n\u001B[32m--> \u001B[39m\u001B[32m200\u001B[39m     \u001B[38;5;28;01mraise\u001B[39;00m \u001B[38;5;167;01mValueError\u001B[39;00m(\n\u001B[32m    201\u001B[39m         \u001B[33mf\u001B[39m\u001B[33m\"\u001B[39m\u001B[33mFile not found: filepath=\u001B[39m\u001B[38;5;132;01m{\u001B[39;00mfilepath\u001B[38;5;132;01m}\u001B[39;00m\u001B[33m. \u001B[39m\u001B[33m\"\u001B[39m\n\u001B[32m    202\u001B[39m         \u001B[33m\"\u001B[39m\u001B[33mPlease ensure the file is an accessible `.keras` \u001B[39m\u001B[33m\"\u001B[39m\n\u001B[32m    203\u001B[39m         \u001B[33m\"\u001B[39m\u001B[33mzip file.\u001B[39m\u001B[33m\"\u001B[39m\n\u001B[32m    204\u001B[39m     )\n\u001B[32m    205\u001B[39m \u001B[38;5;28;01melse\u001B[39;00m:\n\u001B[32m    206\u001B[39m     \u001B[38;5;28;01mraise\u001B[39;00m \u001B[38;5;167;01mValueError\u001B[39;00m(\n\u001B[32m    207\u001B[39m         \u001B[33mf\u001B[39m\u001B[33m\"\u001B[39m\u001B[33mFile format not supported: filepath=\u001B[39m\u001B[38;5;132;01m{\u001B[39;00mfilepath\u001B[38;5;132;01m}\u001B[39;00m\u001B[33m. \u001B[39m\u001B[33m\"\u001B[39m\n\u001B[32m    208\u001B[39m         \u001B[33m\"\u001B[39m\u001B[33mKeras 3 only supports V3 `.keras` files and \u001B[39m\u001B[33m\"\u001B[39m\n\u001B[32m   (...)\u001B[39m\u001B[32m    217\u001B[39m         \u001B[33m\"\u001B[39m\u001B[33mmight have a different name).\u001B[39m\u001B[33m\"\u001B[39m\n\u001B[32m    218\u001B[39m     )\n",
      "\u001B[31mValueError\u001B[39m: File not found: filepath=custom_model_50epoch.keras. Please ensure the file is an accessible `.keras` zip file."
     ]
    }
   ],
   "execution_count": 47
  },
  {
   "cell_type": "code",
   "source": [
    "import tensorflow as tf\n",
    "import numpy as np\n",
    "import os\n",
    "import cv2\n",
    "import matplotlib.pyplot as plt\n",
    "\n",
    "# Load the trained model\n",
    "model = tf.keras.models.load_model(\"custom_model_v3.keras\")  # Update with your model path\n",
    "\n",
    "# Define the image folder\n",
    "image_folder = \"Student_live_captures\"  # Folder containing images\n",
    "\n",
    "# Emotion class labels (update based on dataset order)\n",
    "class_labels = [\"Angry\", \"Disgust\", \"Fear\", \"Happy\", \"Neutral\", \"Sad\", \"Surprise\"]\n",
    "\n",
    "# Get a list of image file names\n",
    "image_files = os.listdir(image_folder)\n",
    "\n",
    "# Choose a subset of images to display (adjust number if needed)\n",
    "num_images_to_display = min(25, len(image_files))  # Display up to 25 images\n",
    "selected_images = np.random.choice(image_files, num_images_to_display, replace=False)\n",
    "\n",
    "# Set up plot grid\n",
    "cols = 5  # Number of columns in the grid\n",
    "rows = num_images_to_display // cols + (num_images_to_display % cols > 0)  # Auto-calculate rows\n",
    "\n",
    "fig, axes = plt.subplots(rows, cols, figsize=(12, 10))\n",
    "axes = axes.flatten()  # Flatten in case of excess subplots\n",
    "\n",
    "# Process and display images\n",
    "for i, img_name in enumerate(selected_images):\n",
    "    img_path = os.path.join(image_folder, img_name)\n",
    "\n",
    "    # Read and preprocess image\n",
    "    img = cv2.imread(img_path, cv2.IMREAD_GRAYSCALE)  # Load in grayscale\n",
    "    img_resized = cv2.resize(img, (48, 48))  # Resize to match input shape\n",
    "    img_array = img_resized / 255.0  # Normalize\n",
    "    img_array = np.expand_dims(img_array, axis=0)  # Add batch dimension\n",
    "    img_array = np.expand_dims(img_array, axis=-1)  # Add channel dimension\n",
    "\n",
    "    # Make prediction\n",
    "    prediction = model.predict(img_array)\n",
    "    predicted_class = class_labels[np.argmax(prediction)]  # Get highest probability class\n",
    "\n",
    "    # Display image with prediction\n",
    "    axes[i].imshow(img_resized, cmap=\"gray\")\n",
    "    axes[i].set_title(predicted_class, fontsize=12, color=\"red\")\n",
    "    axes[i].axis(\"off\")  # Hide axes\n",
    "\n",
    "# Hide unused subplots\n",
    "for j in range(i + 1, len(axes)):\n",
    "    axes[j].axis(\"off\")\n",
    "\n",
    "# Show the plot\n",
    "plt.tight_layout()\n",
    "plt.show()"
   ],
   "metadata": {
    "id": "LyBiNKV0x3Wn"
   },
   "execution_count": null,
   "outputs": []
  }
 ]
}
