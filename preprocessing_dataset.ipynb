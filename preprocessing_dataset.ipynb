{
  "nbformat": 4,
  "nbformat_minor": 0,
  "metadata": {
    "colab": {
      "provenance": [],
      "gpuType": "T4",
      "mount_file_id": "1llkMqmFYsknOsm8BIV6DND0Q0eocmhNw",
      "authorship_tag": "ABX9TyOQp0tAODA0vvR/bPazUr/f",
      "include_colab_link": true
    },
    "kernelspec": {
      "name": "python3",
      "display_name": "Python 3"
    },
    "language_info": {
      "name": "python"
    },
    "accelerator": "GPU"
  },
  "cells": [
    {
      "cell_type": "markdown",
      "metadata": {
        "id": "view-in-github",
        "colab_type": "text"
      },
      "source": [
        "<a href=\"https://colab.research.google.com/github/megmarv/PsychoAI-/blob/Emotion-Identification2/preprocessing_dataset.ipynb\" target=\"_parent\"><img src=\"https://colab.research.google.com/assets/colab-badge.svg\" alt=\"Open In Colab\"/></a>"
      ]
    },
    {
      "cell_type": "code",
      "execution_count": 3,
      "metadata": {
        "id": "ijzXCW463OjW",
        "colab": {
          "base_uri": "https://localhost:8080/"
        },
        "outputId": "dcfa8ba6-72d0-4a05-d7b5-582f7a647f6f"
      },
      "outputs": [
        {
          "output_type": "stream",
          "name": "stdout",
          "text": [
            "Preprocessing complete!\n",
            "Training data shape: (13871, 48, 48, 1)\n",
            "Testing data shape: (3468, 48, 48, 1)\n"
          ]
        }
      ],
      "source": [
        "import os\n",
        "import cv2\n",
        "import numpy as np\n",
        "from sklearn.utils import resample\n",
        "from sklearn.model_selection import train_test_split\n",
        "\n",
        "# Define paths and parameters\n",
        "data_dir = \"/content/drive/MyDrive/CNN model/new_dataset_for_custom_model\"  # Replace with your dataset path\n",
        "emotions = [\"anger\", \"happy\", \"sad\", \"neutral\", \"surprise\", \"fear\", \"disgust\"]  # Add your emotion classes\n",
        "target_size = (48, 48)\n",
        "grayscale = True\n",
        "\n",
        "# Function to preprocess images\n",
        "def preprocess_image(image_path, target_size, grayscale):\n",
        "    image = cv2.imread(image_path)\n",
        "    if grayscale:\n",
        "        image = cv2.cvtColor(image, cv2.COLOR_BGR2GRAY)\n",
        "    image = cv2.resize(image, target_size)\n",
        "    return image\n",
        "\n",
        "# Load and preprocess dataset\n",
        "images = []\n",
        "labels = []\n",
        "\n",
        "for emotion in emotions:\n",
        "    emotion_dir = os.path.join(data_dir, emotion)\n",
        "    emotion_images = os.listdir(emotion_dir)\n",
        "\n",
        "    for image_name in emotion_images:\n",
        "        image_path = os.path.join(emotion_dir, image_name)\n",
        "        image = preprocess_image(image_path, target_size, grayscale)\n",
        "        images.append(image)\n",
        "        labels.append(emotion)\n",
        "\n",
        "# Convert to numpy arrays\n",
        "images = np.array(images)\n",
        "labels = np.array(labels)\n",
        "\n",
        "# Normalize pixel values to [0, 1]\n",
        "images = images / 255.0\n",
        "\n",
        "# Handle class imbalance\n",
        "def balance_classes(images, labels):\n",
        "    unique_classes, counts = np.unique(labels, return_counts=True)\n",
        "    min_samples = min(counts)\n",
        "\n",
        "    balanced_images = []\n",
        "    balanced_labels = []\n",
        "\n",
        "    for emotion in unique_classes:\n",
        "        emotion_indices = np.where(labels == emotion)[0]\n",
        "        sampled_indices = resample(emotion_indices, n_samples=min_samples, replace=False, random_state=42)\n",
        "        balanced_images.extend(images[sampled_indices])\n",
        "        balanced_labels.extend(labels[sampled_indices])\n",
        "\n",
        "    return np.array(balanced_images), np.array(balanced_labels)\n",
        "\n",
        "balanced_images, balanced_labels = balance_classes(images, labels)\n",
        "\n",
        "# Encode labels to integers\n",
        "from sklearn.preprocessing import LabelEncoder\n",
        "label_encoder = LabelEncoder()\n",
        "encoded_labels = label_encoder.fit_transform(balanced_labels)\n",
        "\n",
        "# Split data into training and testing sets\n",
        "X_train, X_test, y_train, y_test = train_test_split(balanced_images, encoded_labels, test_size=0.2, random_state=42)\n",
        "\n",
        "# Reshape images for model input (add channel dimension for grayscale)\n",
        "if grayscale:\n",
        "    X_train = X_train.reshape(X_train.shape[0], target_size[0], target_size[1], 1)\n",
        "    X_test = X_test.reshape(X_test.shape[0], target_size[0], target_size[1], 1)\n",
        "\n",
        "# Save preprocessed data\n",
        "np.save(\"X_train.npy\", X_train)\n",
        "np.save(\"X_test.npy\", X_test)\n",
        "np.save(\"y_train.npy\", y_train)\n",
        "np.save(\"y_test.npy\", y_test)\n",
        "\n",
        "print(\"Preprocessing complete!\")\n",
        "print(f\"Training data shape: {X_train.shape}\")\n",
        "print(f\"Testing data shape: {X_test.shape}\")"
      ]
    }
  ]
}